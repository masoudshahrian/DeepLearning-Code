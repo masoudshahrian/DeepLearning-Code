{
  "nbformat": 4,
  "nbformat_minor": 0,
  "metadata": {
    "colab": {
      "provenance": [],
      "mount_file_id": "19Pc7sIn7AI_e7_V5ZNt_TRdrfq3Rnsrv",
      "authorship_tag": "ABX9TyNF2Uk0jAvVPngszoCPFwiu",
      "include_colab_link": true
    },
    "kernelspec": {
      "name": "python3",
      "display_name": "Python 3"
    },
    "language_info": {
      "name": "python"
    }
  },
  "cells": [
    {
      "cell_type": "markdown",
      "metadata": {
        "id": "view-in-github",
        "colab_type": "text"
      },
      "source": [
        "<a href=\"https://colab.research.google.com/github/masoudshahrian/DeepLearning-Code/blob/main/Seperate_imagest_to_train_and_test_folders.ipynb\" target=\"_parent\"><img src=\"https://colab.research.google.com/assets/colab-badge.svg\" alt=\"Open In Colab\"/></a>"
      ]
    },
    {
      "cell_type": "code",
      "execution_count": 4,
      "metadata": {
        "id": "gTLbjIuRLu74"
      },
      "outputs": [],
      "source": [
        "import os\n",
        "import shutil\n",
        "import random"
      ]
    },
    {
      "cell_type": "code",
      "source": [
        "\n",
        "# مسیر به دایرکتوری تصاویر ورودی\n",
        "input_dir = '/content/drive/MyDrive/Image/CelebA_Image_Croped/'  # مسیر دایرکتوری تصاویر\n",
        "train_dir = '/content/drive/MyDrive/Image/train/'  # مسیر دایرکتوری train\n",
        "test_dir = '/content/drive/MyDrive/Image/test/'    # مسیر دایرکتوری test\n"
      ],
      "metadata": {
        "id": "BK3xzsJyLw2m"
      },
      "execution_count": 5,
      "outputs": []
    },
    {
      "cell_type": "code",
      "source": [
        "# import os\n",
        "\n",
        "# # مسیر به دایرکتوری تصاویر\n",
        "# directory_path = '/content/drive/MyDrive/Image/test/'  # مسیر دایرکتوری\n",
        "\n",
        "# # لیست کردن فایل‌ها در دایرکتوری و شمارش تصاویر\n",
        "# image_extensions = ('.jpg', '.jpeg', '.png', '.gif', '.bmp')  # پسوندهای تصاویر\n",
        "# image_count = 0\n",
        "\n",
        "# # شمارش تصاویر\n",
        "# for filename in os.listdir(directory_path):\n",
        "#     if filename.endswith(image_extensions):\n",
        "#         image_count += 1\n",
        "\n",
        "# print(f\"تعداد تصاویر در دایرکتوری: {image_count}\")"
      ],
      "metadata": {
        "colab": {
          "base_uri": "https://localhost:8080/"
        },
        "id": "zRXJZNdPpY6U",
        "outputId": "88cf7e11-4f70-4f75-948a-34a5da1e401d"
      },
      "execution_count": 3,
      "outputs": [
        {
          "output_type": "stream",
          "name": "stdout",
          "text": [
            "تعداد تصاویر در دایرکتوری: 2718\n"
          ]
        }
      ]
    },
    {
      "cell_type": "code",
      "source": [
        "# تعداد تصاویر در دایرکتوری: 61665\n",
        "\n"
      ],
      "metadata": {
        "id": "kvFexjQTrOhT"
      },
      "execution_count": null,
      "outputs": []
    },
    {
      "cell_type": "code",
      "source": [
        "\n",
        "\n",
        "# ایجاد دایرکتوری‌های train و test در صورت عدم وجود\n",
        "os.makedirs(train_dir, exist_ok=True)\n",
        "os.makedirs(test_dir, exist_ok=True)\n",
        "\n",
        "# لیست کردن تصاویر در دایرکتوری ورودی\n",
        "images = [f for f in os.listdir(input_dir) if f.endswith('.jpg') or f.endswith('.png')]\n",
        "\n",
        "# تصادفی کردن لیست تصاویر\n",
        "random.shuffle(images)\n",
        "\n",
        "# محاسبه تعداد تصاویر برای train و test\n",
        "train_size = int(0.8 * len(images))\n",
        "test_size = len(images) - train_size\n",
        "\n",
        "# تقسیم تصاویر به train و test\n",
        "train_images = images[:train_size]\n",
        "test_images = images[train_size:]\n",
        "\n",
        "# کپی کردن تصاویر به دایرکتوری‌های مربوطه\n",
        "for img in train_images:\n",
        "    shutil.copy(os.path.join(input_dir, img), os.path.join(train_dir, img))\n",
        "\n",
        "for img in test_images:\n",
        "    shutil.copy(os.path.join(input_dir, img), os.path.join(test_dir, img))\n",
        "\n",
        "print(f\"تعداد تصاویر در train: {len(train_images)}\")\n",
        "print(f\"تعداد تصاویر در test: {len(test_images)}\")\n",
        "print(\"تقسیم تصاویر با موفقیت انجام شد.\")"
      ],
      "metadata": {
        "id": "-0pF6AAILwyx"
      },
      "execution_count": null,
      "outputs": []
    },
    {
      "cell_type": "markdown",
      "source": [],
      "metadata": {
        "id": "Yrx-Ep1cFNwc"
      }
    },
    {
      "cell_type": "code",
      "source": [
        "# import os\n",
        "# import shutil\n",
        "# import random\n",
        "\n",
        "# # مسیر به دایرکتوری تصاویر ورودی\n",
        "# input_dir = '/content/drive/MyDrive/kaggle-celebA/images/'  # مسیر دایرکتوری تصاویر\n",
        "# train_dir = '/content/drive/MyDrive/kaggle-celebA/train/'  # مسیر دایرکتوری train\n",
        "# test_dir = '/content/drive/MyDrive/kaggle-celebA/test/'    # مسیر دایرکتوری test\n",
        "\n",
        "# ایجاد دایرکتوری‌های train و test در صورت عدم وجود\n",
        "os.makedirs(train_dir, exist_ok=True)\n",
        "os.makedirs(test_dir, exist_ok=True)\n",
        "\n",
        "# لیست کردن تصاویر در دایرکتوری ورودی\n",
        "images = [f for f in os.listdir(input_dir) if f.endswith('.jpg') or f.endswith('.png')]\n",
        "\n",
        "# اطمینان از اینکه تعداد تصاویر 10000 تا است\n",
        "if len(images) < 10000:\n",
        "    print(f\"تعداد تصاویر موجود کمتر از 10000 است: {len(images)}\")\n",
        "else:\n",
        "    # انتخاب 10000 تصویر تصادفی\n",
        "    images = random.sample(images, 10000)\n",
        "\n",
        "# تصادفی کردن لیست تصاویر\n",
        "random.shuffle(images)\n",
        "\n",
        "# محاسبه تعداد تصاویر برای train و test\n",
        "train_size = int(0.8 * len(images))  # 80% برای train\n",
        "test_size = len(images) - train_size   # 20% برای test\n",
        "\n",
        "# تقسیم تصاویر به train و test\n",
        "train_images = images[:train_size]\n",
        "test_images = images[train_size:]\n",
        "\n",
        "# کپی کردن تصاویر به دایرکتوری‌های مربوطه\n",
        "for img in train_images:\n",
        "    shutil.copy(os.path.join(input_dir, img), os.path.join(train_dir, img))\n",
        "\n",
        "for img in test_images:\n",
        "    shutil.copy(os.path.join(input_dir, img), os.path.join(test_dir, img))\n",
        "\n",
        "print(f\"تعداد تصاویر در train: {len(train_images)}\")\n",
        "print(f\"تعداد تصاویر در test: {len(test_images)}\")\n",
        "print(\"تقسیم تصاویر با موفقیت انجام شد.\")"
      ],
      "metadata": {
        "id": "pckxaIKWo-me",
        "colab": {
          "base_uri": "https://localhost:8080/"
        },
        "outputId": "e173e294-5437-4d01-b1a2-023aec6174c7"
      },
      "execution_count": 6,
      "outputs": [
        {
          "output_type": "stream",
          "name": "stdout",
          "text": [
            "تعداد تصاویر در train: 8000\n",
            "تعداد تصاویر در test: 2000\n",
            "تقسیم تصاویر با موفقیت انجام شد.\n"
          ]
        }
      ]
    }
  ]
}