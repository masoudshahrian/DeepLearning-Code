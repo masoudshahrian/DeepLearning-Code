{
  "metadata": {
    "kernelspec": {
      "language": "python",
      "display_name": "Python 3",
      "name": "python3"
    },
    "language_info": {
      "name": "python",
      "version": "3.10.13",
      "mimetype": "text/x-python",
      "codemirror_mode": {
        "name": "ipython",
        "version": 3
      },
      "pygments_lexer": "ipython3",
      "nbconvert_exporter": "python",
      "file_extension": ".py"
    },
    "kaggle": {
      "accelerator": "gpu",
      "dataSources": [
        {
          "sourceId": 71549,
          "databundleVersionId": 8561470,
          "sourceType": "competition"
        },
        {
          "sourceId": 6158,
          "sourceType": "modelInstanceVersion",
          "modelInstanceId": 4608,
          "modelId": 2797
        },
        {
          "sourceId": 64765,
          "sourceType": "modelInstanceVersion",
          "modelInstanceId": 54020,
          "modelId": 74163
        },
        {
          "sourceId": 64795,
          "sourceType": "modelInstanceVersion",
          "modelInstanceId": 54048,
          "modelId": 74163
        }
      ],
      "dockerImageVersionId": 30733,
      "isInternetEnabled": false,
      "language": "python",
      "sourceType": "notebook",
      "isGpuEnabled": true
    },
    "colab": {
      "name": "RSNA 2024 Lumber Spine - Xception",
      "provenance": [],
      "include_colab_link": true
    }
  },
  "nbformat_minor": 0,
  "nbformat": 4,
  "cells": [
    {
      "cell_type": "markdown",
      "metadata": {
        "id": "view-in-github",
        "colab_type": "text"
      },
      "source": [
        "<a href=\"https://colab.research.google.com/github/masoudshahrian/DeepLearning-Code/blob/main/RSNA_2024_Lumber_Spine_Xception.ipynb\" target=\"_parent\"><img src=\"https://colab.research.google.com/assets/colab-badge.svg\" alt=\"Open In Colab\"/></a>"
      ]
    },
    {
      "source": [
        "# IMPORTANT: SOME KAGGLE DATA SOURCES ARE PRIVATE\n",
        "# RUN THIS CELL IN ORDER TO IMPORT YOUR KAGGLE DATA SOURCES.\n",
        "import kagglehub\n",
        "kagglehub.login()\n"
      ],
      "metadata": {
        "id": "OarqF2nEo2g3"
      },
      "cell_type": "code",
      "outputs": [],
      "execution_count": null
    },
    {
      "source": [
        "# IMPORTANT: RUN THIS CELL IN ORDER TO IMPORT YOUR KAGGLE DATA SOURCES,\n",
        "# THEN FEEL FREE TO DELETE THIS CELL.\n",
        "# NOTE: THIS NOTEBOOK ENVIRONMENT DIFFERS FROM KAGGLE'S PYTHON\n",
        "# ENVIRONMENT SO THERE MAY BE MISSING LIBRARIES USED BY YOUR\n",
        "# NOTEBOOK.\n",
        "\n",
        "rsna_2024_lumbar_spine_degenerative_classification_path = kagglehub.competition_download('rsna-2024-lumbar-spine-degenerative-classification')\n",
        "keras_efficientnetv2_keras_efficientnetv2_s_imagenet_classifier_2_path = kagglehub.model_download('keras/efficientnetv2/Keras/efficientnetv2_s_imagenet_classifier/2')\n",
        "shubhamcodez_efficientnetv2_pytorch_efficientnetv2s_1_path = kagglehub.model_download('shubhamcodez/efficientnetv2/PyTorch/efficientnetv2s/1')\n",
        "shubhamcodez_efficientnetv2_keras_efficientnetv2s_notop_1_path = kagglehub.model_download('shubhamcodez/efficientnetv2/Keras/efficientnetv2s-notop/1')\n",
        "\n",
        "print('Data source import complete.')\n"
      ],
      "metadata": {
        "id": "Oq3qR7azo2g4"
      },
      "cell_type": "code",
      "outputs": [],
      "execution_count": null
    },
    {
      "cell_type": "markdown",
      "source": [
        "# RSNA 2024 Lumbar Spine Degenerative Classification"
      ],
      "metadata": {
        "id": "ILxlujS3o2g6"
      }
    },
    {
      "cell_type": "markdown",
      "source": [
        "## Starter Notebook for Pytorch and Deep learning techniques\n",
        "\n",
        "Using ResNET"
      ],
      "metadata": {
        "id": "-4XDVaZ7o2g7"
      }
    },
    {
      "cell_type": "markdown",
      "source": [
        "What does this notebook contains?\n",
        "\n",
        "* Data organized in an understandable and easy to use way\n",
        "* A pretrained ResNET for inference\n",
        "\n",
        "I have tried creating a notebook where you can just plug your deep learning models and everything else is sorted."
      ],
      "metadata": {
        "id": "4QeQsPrlo2g7"
      }
    },
    {
      "cell_type": "code",
      "source": [
        "import seaborn as sns\n",
        "\n",
        "import matplotlib.pyplot as plt\n",
        "import os\n",
        "import time\n",
        "import numpy as np\n",
        "import glob\n",
        "import json\n",
        "import collections\n",
        "import torch\n",
        "import torch.nn as nn\n",
        "\n",
        "import pydicom as dicom\n",
        "import matplotlib.patches as patches\n",
        "\n",
        "from matplotlib import animation, rc\n",
        "import pandas as pd\n",
        "\n",
        "import pydicom as dicom # dicom\n",
        "import pydicom\n",
        "from pydicom.pixel_data_handlers.util import apply_voi_lut"
      ],
      "metadata": {
        "trusted": true,
        "id": "c50d__zgo2g7"
      },
      "outputs": [],
      "execution_count": null
    },
    {
      "cell_type": "code",
      "source": [
        "# read data\n",
        "train_path = '/kaggle/input/rsna-2024-lumbar-spine-degenerative-classification/'\n",
        "\n",
        "train  = pd.read_csv(train_path + 'train.csv')\n",
        "label = pd.read_csv(train_path + 'train_label_coordinates.csv')\n",
        "train_desc  = pd.read_csv(train_path + 'train_series_descriptions.csv')\n",
        "test_desc   = pd.read_csv(train_path + 'test_series_descriptions.csv')\n",
        "sub         = pd.read_csv(train_path + 'sample_submission.csv')"
      ],
      "metadata": {
        "execution": {
          "iopub.status.busy": "2024-10-31T05:51:12.628326Z",
          "iopub.execute_input": "2024-10-31T05:51:12.628928Z",
          "iopub.status.idle": "2024-10-31T05:51:12.795644Z",
          "shell.execute_reply.started": "2024-10-31T05:51:12.628893Z",
          "shell.execute_reply": "2024-10-31T05:51:12.794815Z"
        },
        "trusted": true,
        "id": "lMwW6vr-o2g7"
      },
      "outputs": [],
      "execution_count": null
    },
    {
      "cell_type": "code",
      "source": [
        "test_desc.head(5)"
      ],
      "metadata": {
        "execution": {
          "iopub.status.busy": "2024-10-31T05:51:12.796784Z",
          "iopub.execute_input": "2024-10-31T05:51:12.797059Z",
          "iopub.status.idle": "2024-10-31T05:51:12.818249Z",
          "shell.execute_reply.started": "2024-10-31T05:51:12.797036Z",
          "shell.execute_reply": "2024-10-31T05:51:12.817073Z"
        },
        "trusted": true,
        "id": "lKeSb9Xto2g7"
      },
      "outputs": [],
      "execution_count": null
    },
    {
      "cell_type": "code",
      "source": [
        "train.head(5)"
      ],
      "metadata": {
        "execution": {
          "iopub.status.busy": "2024-10-31T05:51:12.820577Z",
          "iopub.execute_input": "2024-10-31T05:51:12.82091Z",
          "iopub.status.idle": "2024-10-31T05:51:12.849208Z",
          "shell.execute_reply.started": "2024-10-31T05:51:12.820879Z",
          "shell.execute_reply": "2024-10-31T05:51:12.848546Z"
        },
        "trusted": true,
        "id": "2J1cy71vo2g8"
      },
      "outputs": [],
      "execution_count": null
    },
    {
      "cell_type": "code",
      "source": [
        "train_desc.head(5)"
      ],
      "metadata": {
        "execution": {
          "iopub.status.busy": "2024-10-31T05:51:12.850798Z",
          "iopub.execute_input": "2024-10-31T05:51:12.851422Z",
          "iopub.status.idle": "2024-10-31T05:51:12.864377Z",
          "shell.execute_reply.started": "2024-10-31T05:51:12.851395Z",
          "shell.execute_reply": "2024-10-31T05:51:12.863348Z"
        },
        "trusted": true,
        "id": "9Weh689Io2g8"
      },
      "outputs": [],
      "execution_count": null
    },
    {
      "cell_type": "code",
      "source": [
        "# Function to generate image paths based on directory structure\n",
        "def generate_image_paths(df, data_dir):\n",
        "    image_paths = []\n",
        "    for study_id, series_id in zip(df['study_id'], df['series_id']):\n",
        "        study_dir = os.path.join(data_dir, str(study_id))\n",
        "        series_dir = os.path.join(study_dir, str(series_id))\n",
        "        images = os.listdir(series_dir)\n",
        "        image_paths.extend([os.path.join(series_dir, img) for img in images])\n",
        "    return image_paths\n",
        "\n",
        "# Generate image paths for train and test data\n",
        "train_image_paths = generate_image_paths(train_desc, f'{train_path}/train_images')\n",
        "test_image_paths = generate_image_paths(test_desc, f'{train_path}/test_images')"
      ],
      "metadata": {
        "execution": {
          "iopub.status.busy": "2024-10-31T05:51:17.346386Z",
          "iopub.execute_input": "2024-10-31T05:51:17.347232Z",
          "iopub.status.idle": "2024-10-31T05:52:13.317455Z",
          "shell.execute_reply.started": "2024-10-31T05:51:17.3472Z",
          "shell.execute_reply": "2024-10-31T05:52:13.316503Z"
        },
        "trusted": true,
        "id": "149eMbbko2g8"
      },
      "outputs": [],
      "execution_count": null
    },
    {
      "cell_type": "code",
      "source": [
        "print(train_image_paths[2])\n"
      ],
      "metadata": {
        "execution": {
          "iopub.status.busy": "2024-10-31T05:52:13.31947Z",
          "iopub.execute_input": "2024-10-31T05:52:13.319856Z",
          "iopub.status.idle": "2024-10-31T05:52:13.324788Z",
          "shell.execute_reply.started": "2024-10-31T05:52:13.319822Z",
          "shell.execute_reply": "2024-10-31T05:52:13.323734Z"
        },
        "trusted": true,
        "id": "E4Xig62co2g8"
      },
      "outputs": [],
      "execution_count": null
    },
    {
      "cell_type": "code",
      "source": [
        "len(train_desc)"
      ],
      "metadata": {
        "execution": {
          "iopub.status.busy": "2024-10-31T05:52:13.344282Z",
          "iopub.execute_input": "2024-10-31T05:52:13.345053Z",
          "iopub.status.idle": "2024-10-31T05:52:13.358228Z",
          "shell.execute_reply.started": "2024-10-31T05:52:13.34502Z",
          "shell.execute_reply": "2024-10-31T05:52:13.357287Z"
        },
        "trusted": true,
        "id": "wg2PuN4jo2g9"
      },
      "outputs": [],
      "execution_count": null
    },
    {
      "cell_type": "code",
      "source": [
        "len(train_image_paths)"
      ],
      "metadata": {
        "execution": {
          "iopub.status.busy": "2024-10-31T05:52:13.359531Z",
          "iopub.execute_input": "2024-10-31T05:52:13.360391Z",
          "iopub.status.idle": "2024-10-31T05:52:13.368628Z",
          "shell.execute_reply.started": "2024-10-31T05:52:13.360346Z",
          "shell.execute_reply": "2024-10-31T05:52:13.367715Z"
        },
        "trusted": true,
        "id": "qEEtY9ETo2g9"
      },
      "outputs": [],
      "execution_count": null
    },
    {
      "cell_type": "code",
      "source": [
        "import pydicom\n",
        "import matplotlib.pyplot as plt\n",
        "\n",
        "# Function to open and display DICOM images\n",
        "def display_dicom_images(image_paths):\n",
        "    plt.figure(figsize=(15, 5))  # Adjust figure size if needed\n",
        "    for i, path in enumerate(image_paths[:3]):\n",
        "        ds = pydicom.dcmread(path)\n",
        "        plt.subplot(1, 3, i+1)\n",
        "        plt.imshow(ds.pixel_array, cmap=plt.cm.bone)\n",
        "        plt.title(f\"Image {i+1}\")\n",
        "        plt.axis('off')\n",
        "    plt.show()\n",
        "\n",
        "# Display the first three DICOM images\n",
        "display_dicom_images(train_image_paths)"
      ],
      "metadata": {
        "execution": {
          "iopub.status.busy": "2024-10-31T05:52:13.369919Z",
          "iopub.execute_input": "2024-10-31T05:52:13.370798Z",
          "iopub.status.idle": "2024-10-31T05:52:14.043236Z",
          "shell.execute_reply.started": "2024-10-31T05:52:13.370766Z",
          "shell.execute_reply": "2024-10-31T05:52:14.042157Z"
        },
        "trusted": true,
        "id": "rLtcBzC4o2g9"
      },
      "outputs": [],
      "execution_count": null
    },
    {
      "cell_type": "code",
      "source": [
        "import os\n",
        "import pydicom\n",
        "import matplotlib.pyplot as plt\n",
        "import pandas as pd\n",
        "\n",
        "# Function to open and display DICOM images along with coordinates\n",
        "def display_dicom_with_coordinates(image_paths, label_df):\n",
        "    fig, axs = plt.subplots(1, len(image_paths), figsize=(18, 6))\n",
        "\n",
        "    for idx, path in enumerate(image_paths):  # Display images\n",
        "        study_id = int(path.split('/')[-3])\n",
        "        series_id = int(path.split('/')[-2])\n",
        "\n",
        "        # Filter label coordinates for the current study and series\n",
        "        filtered_labels = label_df[(label_df['study_id'] == study_id) & (label_df['series_id'] == series_id)]\n",
        "\n",
        "        # Read DICOM image\n",
        "        ds = pydicom.dcmread(path)\n",
        "\n",
        "        # Plot DICOM image\n",
        "        axs[idx].imshow(ds.pixel_array, cmap='gray')\n",
        "        axs[idx].set_title(f\"Study ID: {study_id}, Series ID: {series_id}\")\n",
        "        axs[idx].axis('off')\n",
        "\n",
        "        # Plot coordinates\n",
        "        for _, row in filtered_labels.iterrows():\n",
        "            axs[idx].plot(row['x'], row['y'], 'ro', markersize=5)\n",
        "\n",
        "    plt.tight_layout()\n",
        "    plt.show()\n",
        "\n",
        "# Load DICOM files from a folder\n",
        "def load_dicom_files(path_to_folder):\n",
        "    files = [os.path.join(path_to_folder, f) for f in os.listdir(path_to_folder) if f.endswith('.dcm')]\n",
        "    files.sort(key=lambda x: int(os.path.splitext(os.path.basename(x))[0].split('-')[-1]))\n",
        "    return files\n",
        "\n",
        "# Display DICOM images with coordinates\n",
        "study_id = \"100206310\"\n",
        "study_folder = f'{train_path}/train_images/{study_id}'\n",
        "\n",
        "image_paths = []\n",
        "for series_folder in os.listdir(study_folder):\n",
        "    series_folder_path = os.path.join(study_folder, series_folder)\n",
        "    dicom_files = load_dicom_files(series_folder_path)\n",
        "    if dicom_files:\n",
        "        image_paths.append(dicom_files[0])  # Add the first image from each series\n",
        "\n",
        "\n",
        "display_dicom_with_coordinates(image_paths, label)"
      ],
      "metadata": {
        "execution": {
          "iopub.status.busy": "2024-10-31T05:52:14.044705Z",
          "iopub.execute_input": "2024-10-31T05:52:14.045074Z",
          "iopub.status.idle": "2024-10-31T05:52:14.956363Z",
          "shell.execute_reply.started": "2024-10-31T05:52:14.045042Z",
          "shell.execute_reply": "2024-10-31T05:52:14.955423Z"
        },
        "trusted": true,
        "id": "4JwQygPlo2g9"
      },
      "outputs": [],
      "execution_count": null
    },
    {
      "cell_type": "markdown",
      "source": [
        "## Data Preprocessing"
      ],
      "metadata": {
        "id": "rJ4qzQXOo2g9"
      }
    },
    {
      "cell_type": "code",
      "source": [
        "# Define function to reshape a single row of the DataFrame\n",
        "def reshape_row(row):\n",
        "    data = {'study_id': [], 'condition': [], 'level': [], 'severity': []}\n",
        "\n",
        "    for column, value in row.items():\n",
        "        if column not in ['study_id', 'series_id', 'instance_number', 'x', 'y', 'series_description']:\n",
        "            parts = column.split('_')\n",
        "            condition = ' '.join([word.capitalize() for word in parts[:-2]])\n",
        "            level = parts[-2].capitalize() + '/' + parts[-1].capitalize()\n",
        "            data['study_id'].append(row['study_id'])\n",
        "            data['condition'].append(condition)\n",
        "            data['level'].append(level)\n",
        "            data['severity'].append(value)\n",
        "\n",
        "    return pd.DataFrame(data)\n",
        "\n",
        "# Reshape the DataFrame for all rows\n",
        "new_train_df = pd.concat([reshape_row(row) for _, row in train.iterrows()], ignore_index=True)\n",
        "\n",
        "# Display the first few rows of the reshaped dataframe\n",
        "new_train_df.head(5)"
      ],
      "metadata": {
        "execution": {
          "iopub.status.busy": "2024-10-31T05:52:14.957656Z",
          "iopub.execute_input": "2024-10-31T05:52:14.95795Z",
          "iopub.status.idle": "2024-10-31T05:52:16.4415Z",
          "shell.execute_reply.started": "2024-10-31T05:52:14.957924Z",
          "shell.execute_reply": "2024-10-31T05:52:16.440425Z"
        },
        "trusted": true,
        "id": "r-b5XtLso2g9"
      },
      "outputs": [],
      "execution_count": null
    },
    {
      "cell_type": "code",
      "source": [
        "# Print columns in a neat way\n",
        "print(\"\\nColumns in new_train_df:\")\n",
        "print(\",\".join(new_train_df.columns))\n",
        "\n",
        "print(\"\\nColumns in label:\")\n",
        "print(\",\".join(label.columns))\n",
        "\n",
        "print(\"\\nColumns in test_desc:\")\n",
        "print(\",\".join(test_desc.columns))\n",
        "\n",
        "print(\"\\nColumns in sub:\")\n",
        "print(\",\".join(sub.columns))"
      ],
      "metadata": {
        "execution": {
          "iopub.status.busy": "2024-10-31T05:52:16.442823Z",
          "iopub.execute_input": "2024-10-31T05:52:16.443337Z",
          "iopub.status.idle": "2024-10-31T05:52:16.44923Z",
          "shell.execute_reply.started": "2024-10-31T05:52:16.44331Z",
          "shell.execute_reply": "2024-10-31T05:52:16.448311Z"
        },
        "trusted": true,
        "id": "UDIVsXYVo2g-"
      },
      "outputs": [],
      "execution_count": null
    },
    {
      "cell_type": "code",
      "source": [
        "# Merge the dataframes on the common columns\n",
        "merged_df = pd.merge(new_train_df, label, on=['study_id', 'condition', 'level'], how='inner')\n",
        "# Merge the dataframes on the common column 'series_id'\n",
        "final_merged_df = pd.merge(merged_df, train_desc, on='series_id', how='inner')"
      ],
      "metadata": {
        "execution": {
          "iopub.status.busy": "2024-10-31T05:52:16.451968Z",
          "iopub.execute_input": "2024-10-31T05:52:16.452267Z",
          "iopub.status.idle": "2024-10-31T05:52:16.532569Z",
          "shell.execute_reply.started": "2024-10-31T05:52:16.452242Z",
          "shell.execute_reply": "2024-10-31T05:52:16.531105Z"
        },
        "trusted": true,
        "id": "yU9Ukf3Ko2g-"
      },
      "outputs": [],
      "execution_count": null
    },
    {
      "cell_type": "code",
      "source": [
        "# Merge the dataframes on the common column 'series_id'\n",
        "final_merged_df = pd.merge(merged_df, train_desc, on=['series_id','study_id'], how='inner')\n",
        "# Display the first few rows of the final merged dataframe\n",
        "final_merged_df.head(5)"
      ],
      "metadata": {
        "execution": {
          "iopub.status.busy": "2024-10-31T05:52:16.534127Z",
          "iopub.execute_input": "2024-10-31T05:52:16.534513Z",
          "iopub.status.idle": "2024-10-31T05:52:16.566578Z",
          "shell.execute_reply.started": "2024-10-31T05:52:16.534462Z",
          "shell.execute_reply": "2024-10-31T05:52:16.565667Z"
        },
        "trusted": true,
        "id": "EOQIlUGto2g-"
      },
      "outputs": [],
      "execution_count": null
    },
    {
      "cell_type": "code",
      "source": [
        "final_merged_df[final_merged_df['study_id'] == 100206310].sort_values(['x','y'],ascending = True)"
      ],
      "metadata": {
        "execution": {
          "iopub.status.busy": "2024-10-31T05:52:16.56772Z",
          "iopub.execute_input": "2024-10-31T05:52:16.567996Z",
          "iopub.status.idle": "2024-10-31T05:52:16.590707Z",
          "shell.execute_reply.started": "2024-10-31T05:52:16.567972Z",
          "shell.execute_reply": "2024-10-31T05:52:16.589661Z"
        },
        "trusted": true,
        "id": "aLAHxfaTo2g-"
      },
      "outputs": [],
      "execution_count": null
    },
    {
      "cell_type": "code",
      "source": [
        "final_merged_df[final_merged_df['series_id'] == 1012284084].sort_values(\"instance_number\")"
      ],
      "metadata": {
        "execution": {
          "iopub.status.busy": "2024-10-31T05:52:34.353545Z",
          "iopub.execute_input": "2024-10-31T05:52:34.354221Z",
          "iopub.status.idle": "2024-10-31T05:52:34.370085Z",
          "shell.execute_reply.started": "2024-10-31T05:52:34.354186Z",
          "shell.execute_reply": "2024-10-31T05:52:34.369061Z"
        },
        "trusted": true,
        "id": "oJ1tZXoto2g-"
      },
      "outputs": [],
      "execution_count": null
    },
    {
      "cell_type": "markdown",
      "source": [
        "Now, we can see what the data represents\n",
        "\n",
        "Series ID 1012284084 contains 60 images, and how each image maps to each level and condition"
      ],
      "metadata": {
        "id": "fjnqLopSo2g-"
      }
    },
    {
      "cell_type": "code",
      "source": [
        "# Filter the dataframe for the given study_id and sort by instance_number\n",
        "filtered_df = final_merged_df[final_merged_df['study_id'] == 1013589491].sort_values(\"instance_number\")\n",
        "\n",
        "# Display the resulting dataframe\n",
        "filtered_df"
      ],
      "metadata": {
        "execution": {
          "iopub.status.busy": "2024-10-31T05:52:38.613036Z",
          "iopub.execute_input": "2024-10-31T05:52:38.613674Z",
          "iopub.status.idle": "2024-10-31T05:52:38.634548Z",
          "shell.execute_reply.started": "2024-10-31T05:52:38.613641Z",
          "shell.execute_reply": "2024-10-31T05:52:38.633637Z"
        },
        "trusted": true,
        "id": "QBJef1byo2g-"
      },
      "outputs": [],
      "execution_count": null
    },
    {
      "cell_type": "code",
      "source": [
        "# Sort final_merged_df by study_id, series_id, and series_description\n",
        "sorted_final_merged_df = final_merged_df[final_merged_df['study_id'] == 1013589491].sort_values(by=['series_id', 'series_description', 'instance_number'])\n",
        "sorted_final_merged_df"
      ],
      "metadata": {
        "execution": {
          "iopub.status.busy": "2024-10-31T05:52:43.253471Z",
          "iopub.execute_input": "2024-10-31T05:52:43.25386Z",
          "iopub.status.idle": "2024-10-31T05:52:43.276383Z",
          "shell.execute_reply.started": "2024-10-31T05:52:43.253832Z",
          "shell.execute_reply": "2024-10-31T05:52:43.275517Z"
        },
        "trusted": true,
        "id": "OhHkMkQ1o2g-"
      },
      "outputs": [],
      "execution_count": null
    },
    {
      "cell_type": "markdown",
      "source": [
        "We see that, <br>\n",
        "Saggital T1 images map to Neural Foraminal Narrowing <br>\n",
        "Axial T2 images map to Subarticular Stenosis <br>\n",
        "Saggital T2/STIR map to Canal Stenosis <br>"
      ],
      "metadata": {
        "id": "qW7Ld7b3o2g-"
      }
    },
    {
      "cell_type": "code",
      "source": [
        "import pandas as pd\n",
        "\n",
        "# Create the row_id column\n",
        "final_merged_df['row_id'] = (\n",
        "    final_merged_df['study_id'].astype(str) + '_' +\n",
        "    final_merged_df['condition'].str.lower().str.replace(' ', '_') + '_' +\n",
        "    final_merged_df['level'].str.lower().str.replace('/', '_')\n",
        ")\n",
        "\n",
        "# Create the image_path column\n",
        "final_merged_df['image_path'] = (\n",
        "    f'{train_path}/train_images/' +\n",
        "    final_merged_df['study_id'].astype(str) + '/' +\n",
        "    final_merged_df['series_id'].astype(str) + '/' +\n",
        "    final_merged_df['instance_number'].astype(str) + '.dcm'\n",
        ")\n",
        "\n",
        "# Note: Check image path, since there's 1 instance id, for 1 image, but there's many more images other than the ones labelled in the instance ID.\n",
        "\n",
        "# Display the updated dataframe\n",
        "final_merged_df.head(5)"
      ],
      "metadata": {
        "execution": {
          "iopub.status.busy": "2024-10-31T05:52:50.005044Z",
          "iopub.execute_input": "2024-10-31T05:52:50.005658Z",
          "iopub.status.idle": "2024-10-31T05:52:50.24105Z",
          "shell.execute_reply.started": "2024-10-31T05:52:50.005625Z",
          "shell.execute_reply": "2024-10-31T05:52:50.240123Z"
        },
        "trusted": true,
        "id": "217SUhFgo2g_"
      },
      "outputs": [],
      "execution_count": null
    },
    {
      "cell_type": "code",
      "source": [
        "final_merged_df[final_merged_df[\"severity\"] == \"Normal/Mild\"].value_counts().sum()"
      ],
      "metadata": {
        "execution": {
          "iopub.status.busy": "2024-10-31T05:52:56.281312Z",
          "iopub.execute_input": "2024-10-31T05:52:56.281967Z",
          "iopub.status.idle": "2024-10-31T05:52:56.437587Z",
          "shell.execute_reply.started": "2024-10-31T05:52:56.281935Z",
          "shell.execute_reply": "2024-10-31T05:52:56.436607Z"
        },
        "trusted": true,
        "id": "axtcbqG1o2g_"
      },
      "outputs": [],
      "execution_count": null
    },
    {
      "cell_type": "code",
      "source": [
        "final_merged_df[final_merged_df[\"severity\"] == \"Moderate\"].value_counts().sum()"
      ],
      "metadata": {
        "execution": {
          "iopub.status.busy": "2024-10-31T05:52:58.901428Z",
          "iopub.execute_input": "2024-10-31T05:52:58.902056Z",
          "iopub.status.idle": "2024-10-31T05:52:58.95138Z",
          "shell.execute_reply.started": "2024-10-31T05:52:58.902025Z",
          "shell.execute_reply": "2024-10-31T05:52:58.950451Z"
        },
        "trusted": true,
        "id": "02Dr5iJ8o2g_"
      },
      "outputs": [],
      "execution_count": null
    },
    {
      "cell_type": "code",
      "source": [
        "final_merged_df[final_merged_df[\"severity\"] == \"Severe\"].value_counts().sum()"
      ],
      "metadata": {
        "execution": {
          "iopub.status.busy": "2024-10-31T05:53:00.900505Z",
          "iopub.execute_input": "2024-10-31T05:53:00.900849Z",
          "iopub.status.idle": "2024-10-31T05:53:00.932237Z",
          "shell.execute_reply.started": "2024-10-31T05:53:00.900822Z",
          "shell.execute_reply": "2024-10-31T05:53:00.931419Z"
        },
        "trusted": true,
        "id": "PTJ5qyNmo2g_"
      },
      "outputs": [],
      "execution_count": null
    },
    {
      "cell_type": "code",
      "source": [
        "# Define the base path for test images\n",
        "base_path = '/kaggle/input/rsna-2024-lumbar-spine-degenerative-classification/test_images/'\n",
        "\n",
        "# Function to get image paths for a series\n",
        "def get_image_paths(row):\n",
        "    series_path = os.path.join(base_path, str(row['study_id']), str(row['series_id']))\n",
        "    if os.path.exists(series_path):\n",
        "        return [os.path.join(series_path, f) for f in os.listdir(series_path) if os.path.isfile(os.path.join(series_path, f))]\n",
        "    return []\n",
        "\n",
        "# Mapping of series_description to conditions\n",
        "condition_mapping = {\n",
        "    'Sagittal T1': {'left': 'left_neural_foraminal_narrowing', 'right': 'right_neural_foraminal_narrowing'},\n",
        "    'Axial T2': {'left': 'left_subarticular_stenosis', 'right': 'right_subarticular_stenosis'},\n",
        "    'Sagittal T2/STIR': 'spinal_canal_stenosis'\n",
        "}\n",
        "\n",
        "# Create a list to store the expanded rows\n",
        "expanded_rows = []\n",
        "\n",
        "# Expand the dataframe by adding new rows for each file path\n",
        "for index, row in test_desc.iterrows():\n",
        "    image_paths = get_image_paths(row)\n",
        "    conditions = condition_mapping.get(row['series_description'], {})\n",
        "    if isinstance(conditions, str):  # Single condition\n",
        "        conditions = {'left': conditions, 'right': conditions}\n",
        "    for side, condition in conditions.items():\n",
        "        for image_path in image_paths:\n",
        "            expanded_rows.append({\n",
        "                'study_id': row['study_id'],\n",
        "                'series_id': row['series_id'],\n",
        "                'series_description': row['series_description'],\n",
        "                'image_path': image_path,\n",
        "                'condition': condition,\n",
        "                'row_id': f\"{row['study_id']}_{condition}\"\n",
        "            })\n",
        "\n",
        "# Create a new dataframe from the expanded rows\n",
        "expanded_test_desc = pd.DataFrame(expanded_rows)\n",
        "\n",
        "# Display the resulting dataframe\n",
        "expanded_test_desc.head(5)"
      ],
      "metadata": {
        "execution": {
          "iopub.status.busy": "2024-10-31T05:53:03.007742Z",
          "iopub.execute_input": "2024-10-31T05:53:03.008069Z",
          "iopub.status.idle": "2024-10-31T05:53:03.076398Z",
          "shell.execute_reply.started": "2024-10-31T05:53:03.008044Z",
          "shell.execute_reply": "2024-10-31T05:53:03.07539Z"
        },
        "trusted": true,
        "id": "qa2O7bguo2g_"
      },
      "outputs": [],
      "execution_count": null
    },
    {
      "cell_type": "code",
      "source": [
        "# change severity column labels\n",
        "#Normal/Mild': 'normal_mild', 'Moderate': 'moderate', 'Severe': 'severe'}\n",
        "final_merged_df['severity'] = final_merged_df['severity'].map({'Normal/Mild': 'normal_mild', 'Moderate': 'moderate', 'Severe': 'severe'})"
      ],
      "metadata": {
        "execution": {
          "iopub.status.busy": "2024-10-31T05:53:07.670084Z",
          "iopub.execute_input": "2024-10-31T05:53:07.670445Z",
          "iopub.status.idle": "2024-10-31T05:53:07.682387Z",
          "shell.execute_reply.started": "2024-10-31T05:53:07.670417Z",
          "shell.execute_reply": "2024-10-31T05:53:07.681384Z"
        },
        "trusted": true,
        "id": "52_owJEDo2hA"
      },
      "outputs": [],
      "execution_count": null
    },
    {
      "cell_type": "code",
      "source": [
        "test_data = expanded_test_desc\n",
        "train_data = final_merged_df"
      ],
      "metadata": {
        "execution": {
          "iopub.status.busy": "2024-10-31T05:53:14.686369Z",
          "iopub.execute_input": "2024-10-31T05:53:14.686731Z",
          "iopub.status.idle": "2024-10-31T05:53:14.690997Z",
          "shell.execute_reply.started": "2024-10-31T05:53:14.686702Z",
          "shell.execute_reply": "2024-10-31T05:53:14.690168Z"
        },
        "trusted": true,
        "id": "r2yJRZY_o2hA"
      },
      "outputs": [],
      "execution_count": null
    },
    {
      "cell_type": "code",
      "source": [
        "train_data.head(10)"
      ],
      "metadata": {
        "execution": {
          "iopub.status.busy": "2024-10-31T05:53:16.735348Z",
          "iopub.execute_input": "2024-10-31T05:53:16.735713Z",
          "iopub.status.idle": "2024-10-31T05:53:16.751901Z",
          "shell.execute_reply.started": "2024-10-31T05:53:16.735686Z",
          "shell.execute_reply": "2024-10-31T05:53:16.750934Z"
        },
        "trusted": true,
        "id": "qfM4JXQto2hA"
      },
      "outputs": [],
      "execution_count": null
    },
    {
      "cell_type": "code",
      "source": [
        "test_data.head(10)"
      ],
      "metadata": {
        "execution": {
          "iopub.status.busy": "2024-10-31T05:53:23.380315Z",
          "iopub.execute_input": "2024-10-31T05:53:23.381015Z",
          "iopub.status.idle": "2024-10-31T05:53:23.39319Z",
          "shell.execute_reply.started": "2024-10-31T05:53:23.380981Z",
          "shell.execute_reply": "2024-10-31T05:53:23.392189Z"
        },
        "trusted": true,
        "id": "8AiPV9Uho2hA"
      },
      "outputs": [],
      "execution_count": null
    },
    {
      "cell_type": "code",
      "source": [
        "train_data.shape"
      ],
      "metadata": {
        "execution": {
          "iopub.status.busy": "2024-10-31T05:53:26.428957Z",
          "iopub.execute_input": "2024-10-31T05:53:26.429407Z",
          "iopub.status.idle": "2024-10-31T05:53:26.435157Z",
          "shell.execute_reply.started": "2024-10-31T05:53:26.429375Z",
          "shell.execute_reply": "2024-10-31T05:53:26.434262Z"
        },
        "trusted": true,
        "id": "WffD5Gmso2hB"
      },
      "outputs": [],
      "execution_count": null
    },
    {
      "cell_type": "code",
      "source": [
        "import os\n",
        "\n",
        "# Define a function to check if a path exists\n",
        "def check_exists(path):\n",
        "    return os.path.exists(path)\n",
        "\n",
        "# Define a function to check if a study ID directory exists\n",
        "def check_study_id(row):\n",
        "    study_id = row['study_id']\n",
        "    path = f'{train_path}/train_images/{study_id}'\n",
        "    return check_exists(path)\n",
        "\n",
        "# Define a function to check if a series ID directory exists\n",
        "def check_series_id(row):\n",
        "    study_id = row['study_id']\n",
        "    series_id = row['series_id']\n",
        "    path = f'{train_path}/train_images/{study_id}/{series_id}'\n",
        "    return check_exists(path)\n",
        "\n",
        "# Define a function to check if an image file exists\n",
        "def check_image_exists(row):\n",
        "    image_path = row['image_path']\n",
        "    return check_exists(image_path)\n",
        "\n",
        "# Apply the functions to the train_data dataframe\n",
        "train_data['study_id_exists'] = train_data.apply(check_study_id, axis=1)\n",
        "train_data['series_id_exists'] = train_data.apply(check_series_id, axis=1)\n",
        "train_data['image_exists'] = train_data.apply(check_image_exists, axis=1)\n",
        "\n",
        "# Filter train_data\n",
        "train_data = train_data[(train_data['study_id_exists']) & (train_data['series_id_exists']) & (train_data['image_exists'])]"
      ],
      "metadata": {
        "execution": {
          "iopub.status.busy": "2024-10-31T05:53:28.389069Z",
          "iopub.execute_input": "2024-10-31T05:53:28.389423Z",
          "iopub.status.idle": "2024-10-31T05:53:44.83524Z",
          "shell.execute_reply.started": "2024-10-31T05:53:28.389394Z",
          "shell.execute_reply": "2024-10-31T05:53:44.83446Z"
        },
        "trusted": true,
        "id": "eBUNUS-Eo2hB"
      },
      "outputs": [],
      "execution_count": null
    },
    {
      "cell_type": "code",
      "source": [
        "train_data.shape"
      ],
      "metadata": {
        "execution": {
          "iopub.status.busy": "2024-10-31T05:53:44.836734Z",
          "iopub.execute_input": "2024-10-31T05:53:44.837024Z",
          "iopub.status.idle": "2024-10-31T05:53:44.843322Z",
          "shell.execute_reply.started": "2024-10-31T05:53:44.836999Z",
          "shell.execute_reply": "2024-10-31T05:53:44.842328Z"
        },
        "trusted": true,
        "id": "3bKvGz2to2hB"
      },
      "outputs": [],
      "execution_count": null
    },
    {
      "cell_type": "code",
      "source": [
        "train_data.head(3)"
      ],
      "metadata": {
        "execution": {
          "iopub.status.busy": "2024-10-31T05:53:44.844581Z",
          "iopub.execute_input": "2024-10-31T05:53:44.844891Z",
          "iopub.status.idle": "2024-10-31T05:53:44.863435Z",
          "shell.execute_reply.started": "2024-10-31T05:53:44.844861Z",
          "shell.execute_reply": "2024-10-31T05:53:44.862501Z"
        },
        "trusted": true,
        "id": "NLMPKjLIo2hH"
      },
      "outputs": [],
      "execution_count": null
    },
    {
      "cell_type": "code",
      "source": [
        "def load_dicom(path):\n",
        "    dicom = pydicom.read_file(path)\n",
        "    data = dicom.pixel_array\n",
        "    data = data - np.min(data)\n",
        "    if np.max(data) != 0:\n",
        "        data = data / np.max(data)\n",
        "    data = (data * 255).astype(np.uint8)\n",
        "    return data"
      ],
      "metadata": {
        "execution": {
          "iopub.status.busy": "2024-10-31T05:53:44.865337Z",
          "iopub.execute_input": "2024-10-31T05:53:44.865628Z",
          "iopub.status.idle": "2024-10-31T05:53:44.872378Z",
          "shell.execute_reply.started": "2024-10-31T05:53:44.865604Z",
          "shell.execute_reply": "2024-10-31T05:53:44.871609Z"
        },
        "trusted": true,
        "id": "gdZ__jY3o2hH"
      },
      "outputs": [],
      "execution_count": null
    },
    {
      "cell_type": "code",
      "source": [
        "# Load images randomly\n",
        "import random\n",
        "images = []\n",
        "row_ids = []\n",
        "selected_indices = random.sample(range(len(train_data)), 2)\n",
        "for i in selected_indices:\n",
        "    image = load_dicom(train_data['image_path'][i])\n",
        "    images.append(image)\n",
        "    row_ids.append(train_data['row_id'][i])\n",
        "\n",
        "# Plot images\n",
        "fig, ax = plt.subplots(1, 2, figsize=(8, 4))\n",
        "for i in range(2):\n",
        "    ax[i].imshow(images[i], cmap='gray')\n",
        "    ax[i].set_title(f'Row ID: {row_ids[i]}', fontsize=8)\n",
        "    ax[i].axis('off')\n",
        "plt.tight_layout()\n",
        "plt.show()"
      ],
      "metadata": {
        "execution": {
          "iopub.status.busy": "2024-10-31T05:53:45.293346Z",
          "iopub.execute_input": "2024-10-31T05:53:45.293629Z",
          "iopub.status.idle": "2024-10-31T05:53:45.739365Z",
          "shell.execute_reply.started": "2024-10-31T05:53:45.293605Z",
          "shell.execute_reply": "2024-10-31T05:53:45.738474Z"
        },
        "trusted": true,
        "id": "LuF274hno2hH"
      },
      "outputs": [],
      "execution_count": null
    },
    {
      "cell_type": "markdown",
      "source": [
        "## Loading data"
      ],
      "metadata": {
        "id": "AJE0PbQWo2hH"
      }
    },
    {
      "cell_type": "code",
      "source": [
        "#for one hot encoding\n",
        "#train_data[['normal_mild', 'severe', 'moderate']] = train_data[['normal_mild', 'severe', 'moderate']].astype(int)"
      ],
      "metadata": {
        "execution": {
          "iopub.status.busy": "2024-10-31T05:53:45.740633Z",
          "iopub.execute_input": "2024-10-31T05:53:45.740922Z",
          "iopub.status.idle": "2024-10-31T05:53:45.74493Z",
          "shell.execute_reply.started": "2024-10-31T05:53:45.740897Z",
          "shell.execute_reply": "2024-10-31T05:53:45.743893Z"
        },
        "trusted": true,
        "id": "HOSVa47zo2hI"
      },
      "outputs": [],
      "execution_count": null
    },
    {
      "cell_type": "code",
      "source": [
        "train_data"
      ],
      "metadata": {
        "execution": {
          "iopub.status.busy": "2024-10-31T05:53:45.74695Z",
          "iopub.execute_input": "2024-10-31T05:53:45.747261Z",
          "iopub.status.idle": "2024-10-31T05:53:45.77347Z",
          "shell.execute_reply.started": "2024-10-31T05:53:45.747231Z",
          "shell.execute_reply": "2024-10-31T05:53:45.772452Z"
        },
        "trusted": true,
        "id": "mwjrph-Wo2hI"
      },
      "outputs": [],
      "execution_count": null
    },
    {
      "cell_type": "code",
      "source": [
        "train_data = train_data.dropna()"
      ],
      "metadata": {
        "execution": {
          "iopub.status.busy": "2024-10-31T05:53:49.410846Z",
          "iopub.execute_input": "2024-10-31T05:53:49.411196Z",
          "iopub.status.idle": "2024-10-31T05:53:49.451074Z",
          "shell.execute_reply.started": "2024-10-31T05:53:49.411168Z",
          "shell.execute_reply": "2024-10-31T05:53:49.45001Z"
        },
        "trusted": true,
        "id": "OPWyMcWSo2hI"
      },
      "outputs": [],
      "execution_count": null
    },
    {
      "cell_type": "code",
      "source": [
        "import pandas as pd\n",
        "from sklearn.model_selection import train_test_split\n",
        "from torch.utils.data import Dataset, DataLoader\n",
        "import torchvision.transforms as transforms\n",
        "import torch\n",
        "import torch.optim.lr_scheduler as lr_scheduler\n",
        "from tqdm import tqdm\n",
        "\n",
        "# Define a custom dataset class\n",
        "class CustomDataset(Dataset):\n",
        "    def __init__(self, dataframe, transform=None):\n",
        "        self.dataframe = dataframe\n",
        "        self.transform = transform\n",
        "\n",
        "    def __len__(self):\n",
        "        return len(self.dataframe)\n",
        "\n",
        "    def __getitem__(self, index):\n",
        "        image_path = self.dataframe['image_path'][index]\n",
        "        image = load_dicom(image_path)  # Define this function to load your DICOM images\n",
        "        label = self.dataframe['severity'][index]\n",
        "\n",
        "        if self.transform:\n",
        "            image = self.transform(image)\n",
        "\n",
        "        return image, label\n",
        "\n",
        "# Function to create datasets and dataloaders for each series description\n",
        "def create_datasets_and_loaders(df, series_description, transform, batch_size=8):\n",
        "    filtered_df = df[df['series_description'] == series_description]\n",
        "\n",
        "    train_df, val_df = train_test_split(filtered_df, test_size=0.2, random_state=42)\n",
        "    train_df = train_df.reset_index(drop=True)\n",
        "    val_df = val_df.reset_index(drop=True)\n",
        "\n",
        "    train_dataset = CustomDataset(train_df, transform)\n",
        "    val_dataset = CustomDataset(val_df, transform)\n",
        "\n",
        "    trainloader = DataLoader(train_dataset, batch_size=batch_size, shuffle=True)\n",
        "    valloader = DataLoader(val_dataset, batch_size=batch_size, shuffle=False)\n",
        "\n",
        "    return trainloader, valloader, len(train_df), len(val_df)\n",
        "\n",
        "# Define the transforms\n",
        "transform = transforms.Compose([\n",
        "    transforms.Lambda(lambda x: (x * 255).astype(np.uint8)),  # Convert back to uint8 for PIL\n",
        "    transforms.ToPILImage(),\n",
        "    transforms.Resize((224, 224)),\n",
        "    transforms.Grayscale(num_output_channels=3),\n",
        "    transforms.ToTensor(),\n",
        "])\n",
        "\n",
        "# Create dataloaders for each series description\n",
        "dataloaders = {}\n",
        "lengths = {}\n",
        "\n",
        "trainloader_t1, valloader_t1, len_train_t1, len_val_t1 = create_datasets_and_loaders(train_data, 'Sagittal T1', transform)\n",
        "trainloader_t2, valloader_t2, len_train_t2, len_val_t2 = create_datasets_and_loaders(train_data, 'Axial T2', transform)\n",
        "trainloader_t2stir, valloader_t2stir, len_train_t2stir, len_val_t2stir = create_datasets_and_loaders(train_data, 'Sagittal T2/STIR', transform)\n",
        "\n",
        "dataloaders['Sagittal T1'] = (trainloader_t1, valloader_t1)\n",
        "dataloaders['Axial T2'] = (trainloader_t2, valloader_t2)\n",
        "dataloaders['Sagittal T2/STIR'] = (trainloader_t2stir, valloader_t2stir)\n",
        "\n",
        "lengths['Sagittal T1'] = (len_train_t1, len_val_t1)\n",
        "lengths['Axial T2'] = (len_train_t2, len_val_t2)\n",
        "lengths['Sagittal T2/STIR'] = (len_train_t2stir, len_val_t2stir)\n",
        "\n",
        "# Dictionary mapping labels to indices\n",
        "label_map = {'Mild': 0, 'Moderate': 1, 'Severe': 2}"
      ],
      "metadata": {
        "execution": {
          "iopub.status.busy": "2024-10-31T05:53:52.578178Z",
          "iopub.execute_input": "2024-10-31T05:53:52.579006Z",
          "iopub.status.idle": "2024-10-31T05:53:54.097864Z",
          "shell.execute_reply.started": "2024-10-31T05:53:52.578976Z",
          "shell.execute_reply": "2024-10-31T05:53:54.097017Z"
        },
        "trusted": true,
        "id": "PZhQFT_zo2hI"
      },
      "outputs": [],
      "execution_count": null
    },
    {
      "cell_type": "code",
      "source": [
        "import matplotlib.pyplot as plt\n",
        "\n",
        "# Function to visualize a batch of images\n",
        "def visualize_batch(dataloader):\n",
        "    images, labels = next(iter(dataloader))\n",
        "    fig, axes = plt.subplots(1, len(images), figsize=(20, 5))\n",
        "    for i, (img, lbl) in enumerate(zip(images, labels)):\n",
        "        ax = axes[i]\n",
        "        img = img.permute(1, 2, 0)  # Convert to HWC for visualization\n",
        "        ax.imshow(img)\n",
        "        ax.set_title(f\"Label: {lbl}\")\n",
        "        ax.axis('off')\n",
        "    plt.show()\n",
        "\n",
        "# Visualize samples from each dataloader\n",
        "print(\"Visualizing Sagittal T1 samples\")\n",
        "visualize_batch(trainloader_t1)\n",
        "print(\"Visualizing Axial T2 samples\")\n",
        "visualize_batch(trainloader_t2)\n",
        "print(\"Visualizing Sagittal T2/STIR samples\")\n",
        "visualize_batch(trainloader_t2stir)"
      ],
      "metadata": {
        "execution": {
          "iopub.status.busy": "2024-10-31T05:53:56.936835Z",
          "iopub.execute_input": "2024-10-31T05:53:56.93738Z",
          "iopub.status.idle": "2024-10-31T05:53:59.777993Z",
          "shell.execute_reply.started": "2024-10-31T05:53:56.937346Z",
          "shell.execute_reply": "2024-10-31T05:53:59.777131Z"
        },
        "trusted": true,
        "id": "5ZsevrkZo2hI"
      },
      "outputs": [],
      "execution_count": null
    },
    {
      "cell_type": "code",
      "source": [
        "import matplotlib.pyplot as plt\n",
        "\n",
        "image, label = next(iter(trainloader_t2))\n",
        "sample = image[1].permute(1, 2, 0)  #sample\n",
        "\n",
        "# Plot images\n",
        "plt.figsize=(8, 4)\n",
        "plt.imshow(images[0], cmap='gray')\n",
        "plt.title(label[0])\n",
        "plt.axis('off')\n",
        "plt.tight_layout()\n",
        "plt.show()"
      ],
      "metadata": {
        "execution": {
          "iopub.status.busy": "2024-10-31T05:54:06.575364Z",
          "iopub.execute_input": "2024-10-31T05:54:06.57622Z",
          "iopub.status.idle": "2024-10-31T05:54:07.043306Z",
          "shell.execute_reply.started": "2024-10-31T05:54:06.576186Z",
          "shell.execute_reply": "2024-10-31T05:54:07.042408Z"
        },
        "trusted": true,
        "id": "kDT-x1OLo2hJ"
      },
      "outputs": [],
      "execution_count": null
    },
    {
      "cell_type": "markdown",
      "source": [
        "## Model"
      ],
      "metadata": {
        "id": "Emgo1hPNo2hJ"
      }
    },
    {
      "cell_type": "markdown",
      "source": [
        "ConvNext"
      ],
      "metadata": {
        "id": "rksAnIZdo2hJ"
      }
    },
    {
      "cell_type": "code",
      "source": [
        "import torch\n",
        "import torch.nn as nn\n",
        "import torchvision.models as models\n",
        "from torchvision import transforms\n",
        "from torch.utils.data import DataLoader\n",
        "from sklearn.model_selection import train_test_split\n",
        "import pandas as pd\n",
        "from tqdm import tqdm\n",
        "\n",
        "device = torch.device(\"cuda\" if torch.cuda.is_available() else \"cpu\")"
      ],
      "metadata": {
        "execution": {
          "iopub.status.busy": "2024-06-13T05:05:58.59269Z",
          "iopub.execute_input": "2024-06-13T05:05:58.593024Z",
          "iopub.status.idle": "2024-06-13T05:05:58.622817Z",
          "shell.execute_reply.started": "2024-06-13T05:05:58.592996Z",
          "shell.execute_reply": "2024-06-13T05:05:58.621475Z"
        },
        "trusted": true,
        "id": "ClqqsjX6o2hK"
      },
      "outputs": [],
      "execution_count": null
    },
    {
      "cell_type": "code",
      "source": [
        "# import torch\n",
        "# import torch.nn as nn\n",
        "# import torchvision.models as models\n",
        "# from torchvision import transforms\n",
        "# from torch.utils.data import DataLoader, Dataset\n",
        "# from sklearn.model_selection import train_test_split\n",
        "# import pandas as pd\n",
        "# from tqdm import tqdm\n",
        "import os\n",
        "\n",
        "# device = torch.device(\"cuda\" if torch.cuda.is_available() else \"cpu\")\n",
        "\n",
        "class CustomXception(nn.Module):\n",
        "    def __init__(self, num_classes=3, pretrained_weights=None):\n",
        "        super(CustomXception, self).__init__()\n",
        "        self.model = models.xception(weights=None)  # Xception model\n",
        "        if pretrained_weights:\n",
        "            self.model.load_state_dict(torch.load(pretrained_weights))\n",
        "        num_ftrs = self.model.classifier[-1].in_features\n",
        "        self.model.classifier[-1] = nn.Linear(num_ftrs, num_classes)\n",
        "\n",
        "    def forward(self, x):\n",
        "        return self.model(x)\n",
        "\n",
        "    def unfreeze_model(self):\n",
        "        # Unfreeze the last layers, keeping BatchNorm layers frozen\n",
        "        for layer in list(self.model.children())[-20:]:\n",
        "            if not isinstance(layer, nn.BatchNorm2d):\n",
        "                for param in layer.parameters():\n",
        "                    param.requires_grad = True\n",
        "\n",
        "        # Unfreeze the classifier\n",
        "        for param in self.model.classifier.parameters():\n",
        "            param.requires_grad = True\n",
        "\n",
        "# Path to the locally uploaded weights file\n",
        "weights_path = '/kaggle/input/xception/pytorch/xception.pth'  # Update this path accordingly\n",
        "\n",
        "# Initialize models\n",
        "sagittal_t1_model = CustomXception(num_classes=3, pretrained_weights=weights_path).to(device)\n",
        "axial_t2_model = CustomXception(num_classes=3, pretrained_weights=weights_path).to(device)\n",
        "sagittal_t2stir_model = CustomXception(num_classes=3, pretrained_weights=weights_path).to(device)\n",
        "\n",
        "# Optionally freeze initial layers\n",
        "for param in sagittal_t1_model.model.parameters():\n",
        "    param.requires_grad = False\n",
        "for param in axial_t2_model.model.parameters():\n",
        "    param.requires_grad = False\n",
        "for param in sagittal_t2stir_model.model.parameters():\n",
        "    param.requires_grad = False\n",
        "\n",
        "# Unfreeze the final fully connected layer\n",
        "for param in sagittal_t1_model.model.classifier.parameters():\n",
        "    param.requires_grad = True\n",
        "for param in axial_t2_model.model.classifier.parameters():\n",
        "    param.requires_grad = True\n",
        "for param in sagittal_t2stir_model.model.classifier.parameters():\n",
        "    param.requires_grad = True\n",
        "\n",
        "# Training parameters\n",
        "criterion = nn.CrossEntropyLoss()\n",
        "\n",
        "# Initialize separate optimizers for each model\n",
        "optimizer_sagittal_t1 = torch.optim.Adam(sagittal_t1_model.model.classifier.parameters(), lr=0.001)\n",
        "optimizer_axial_t2 = torch.optim.Adam(axial_t2_model.model.classifier.parameters(), lr=0.001)\n",
        "optimizer_sagittal_t2stir = torch.optim.Adam(sagittal_t2stir_model.model.classifier.parameters(), lr=0.001)\n",
        "\n",
        "# Store the models and optimizers in dictionaries for easy access\n",
        "models = {\n",
        "    'Sagittal T1': sagittal_t1_model,\n",
        "    'Axial T2': axial_t2_model,\n",
        "    'Sagittal T2/STIR': sagittal_t2stir_model,\n",
        "}\n",
        "optimizers = {\n",
        "    'Sagittal T1': optimizer_sagittal_t1,\n",
        "    'Axial T2': optimizer_axial_t2,\n",
        "    'Sagittal T2/STIR': optimizer_sagittal_t2stir,\n",
        "}\n"
      ],
      "metadata": {
        "trusted": true,
        "id": "yoMe7avko2hK"
      },
      "outputs": [],
      "execution_count": null
    },
    {
      "cell_type": "code",
      "source": [
        "# import torch\n",
        "# import torch.nn as nn\n",
        "# import torchvision.models as models\n",
        "\n",
        "# class CustomEfficientNetV2(nn.Module):\n",
        "#     def __init__(self, num_classes=3, pretrained_weights=None):\n",
        "#         super(CustomEfficientNetV2, self).__init__()\n",
        "#         self.model = models.efficientnet_v2_s(weights=None)\n",
        "#         if pretrained_weights:\n",
        "#             self.model.load_state_dict(torch.load(pretrained_weights))\n",
        "#         num_ftrs = self.model.classifier[-1].in_features\n",
        "#         self.model.classifier[-1] = nn.Linear(num_ftrs, num_classes)\n",
        "\n",
        "#     def forward(self, x):\n",
        "#         return self.model(x)\n",
        "\n",
        "#     def unfreeze_model(self):\n",
        "#         # Unfreeze the last 20 layers, keeping BatchNorm layers frozen\n",
        "#         for layer in list(self.model.features.children())[-20:]:\n",
        "#             if not isinstance(layer, nn.BatchNorm2d):\n",
        "#                 for param in layer.parameters():\n",
        "#                     param.requires_grad = True\n",
        "\n",
        "#         # Unfreeze the classifier\n",
        "#         for param in self.model.classifier.parameters():\n",
        "#             param.requires_grad = True\n",
        "\n",
        "# device = torch.device(\"cuda\" if torch.cuda.is_available() else \"cpu\")\n",
        "# # Path to the locally uploaded weights file\n",
        "# weights_path = '/kaggle/input/efficientnetv2/pytorch/efficientnetv2s/1/efficientnet_v2_s-dd5fe13b.pth'\n",
        "\n",
        "# # Initialize models\n",
        "# sagittal_t1_model = CustomEfficientNetV2(num_classes=3, pretrained_weights=weights_path).to(device)\n",
        "# axial_t2_model = CustomEfficientNetV2(num_classes=3, pretrained_weights=weights_path).to(device)\n",
        "# sagittal_t2stir_model = CustomEfficientNetV2(num_classes=3, pretrained_weights=weights_path).to(device)\n",
        "\n",
        "# # Optionally freeze initial layers\n",
        "# for param in sagittal_t1_model.model.features.parameters():\n",
        "#     param.requires_grad = False\n",
        "# for param in axial_t2_model.model.features.parameters():\n",
        "#     param.requires_grad = False\n",
        "# for param in sagittal_t2stir_model.model.features.parameters():\n",
        "#     param.requires_grad = False\n",
        "\n",
        "# # Unfreeze the final fully connected layer\n",
        "# for param in sagittal_t1_model.model.classifier.parameters():\n",
        "#     param.requires_grad = True\n",
        "# for param in axial_t2_model.model.classifier.parameters():\n",
        "#     param.requires_grad = True\n",
        "# for param in sagittal_t2stir_model.model.classifier.parameters():\n",
        "#     param.requires_grad = True\n",
        "\n",
        "# # Training parameters\n",
        "# criterion = nn.CrossEntropyLoss()\n",
        "\n",
        "# # Initialize separate optimizers for each model\n",
        "# optimizer_sagittal_t1 = torch.optim.Adam(sagittal_t1_model.model.classifier.parameters(), lr=0.001)\n",
        "# optimizer_axial_t2 = torch.optim.Adam(axial_t2_model.model.classifier.parameters(), lr=0.001)\n",
        "# optimizer_sagittal_t2stir = torch.optim.Adam(sagittal_t2stir_model.model.classifier.parameters(), lr=0.001)\n",
        "\n",
        "# # Store the models and optimizers in dictionaries for easy access\n",
        "# models = {\n",
        "#     'Sagittal T1': sagittal_t1_model,\n",
        "#     'Axial T2': axial_t2_model,\n",
        "#     'Sagittal T2/STIR': sagittal_t2stir_model,\n",
        "# }\n",
        "# optimizers = {\n",
        "#     'Sagittal T1': optimizer_sagittal_t1,\n",
        "#     'Axial T2': optimizer_axial_t2,\n",
        "#     'Sagittal T2/STIR': optimizer_sagittal_t2stir,\n",
        "# }"
      ],
      "metadata": {
        "execution": {
          "iopub.status.busy": "2024-10-31T05:54:11.428378Z",
          "iopub.execute_input": "2024-10-31T05:54:11.429021Z",
          "iopub.status.idle": "2024-10-31T05:54:14.0679Z",
          "shell.execute_reply.started": "2024-10-31T05:54:11.428991Z",
          "shell.execute_reply": "2024-10-31T05:54:14.06688Z"
        },
        "trusted": true,
        "id": "J2qCdZ_Wo2hL"
      },
      "outputs": [],
      "execution_count": null
    },
    {
      "cell_type": "code",
      "source": [
        "# Count trainable parameters\n",
        "trainable_params = sum(p.numel() for p in sagittal_t1_model.parameters() if p.requires_grad)\n",
        "print(f\"Number of parameters: {trainable_params}\")"
      ],
      "metadata": {
        "execution": {
          "iopub.status.busy": "2024-10-31T05:54:19.134885Z",
          "iopub.execute_input": "2024-10-31T05:54:19.13556Z",
          "iopub.status.idle": "2024-10-31T05:54:19.143715Z",
          "shell.execute_reply.started": "2024-10-31T05:54:19.135527Z",
          "shell.execute_reply": "2024-10-31T05:54:19.142793Z"
        },
        "trusted": true,
        "id": "5Vl-C5QPo2hL"
      },
      "outputs": [],
      "execution_count": null
    },
    {
      "cell_type": "markdown",
      "source": [
        "## Training"
      ],
      "metadata": {
        "id": "OBhvorXbo2hM"
      }
    },
    {
      "cell_type": "code",
      "source": [
        "label_map = {'normal_mild': 0, 'moderate': 1, 'severe': 2}"
      ],
      "metadata": {
        "execution": {
          "iopub.status.busy": "2024-10-31T06:07:35.866788Z",
          "iopub.execute_input": "2024-10-31T06:07:35.867167Z",
          "iopub.status.idle": "2024-10-31T06:07:35.872129Z",
          "shell.execute_reply.started": "2024-10-31T06:07:35.867138Z",
          "shell.execute_reply": "2024-10-31T06:07:35.87116Z"
        },
        "trusted": true,
        "id": "T8JXF5euo2hM"
      },
      "outputs": [],
      "execution_count": null
    },
    {
      "cell_type": "code",
      "source": [
        "for images, labels in trainloader_t2:\n",
        "    labels = torch.tensor([label_map[label] for label in labels])\n",
        "    labels = labels.to(device)\n",
        "    print(labels)\n",
        "    break"
      ],
      "metadata": {
        "execution": {
          "iopub.status.busy": "2024-10-31T06:07:42.218767Z",
          "iopub.execute_input": "2024-10-31T06:07:42.219386Z",
          "iopub.status.idle": "2024-10-31T06:07:42.444539Z",
          "shell.execute_reply.started": "2024-10-31T06:07:42.219354Z",
          "shell.execute_reply": "2024-10-31T06:07:42.443541Z"
        },
        "trusted": true,
        "id": "40pXRp5Qo2hM"
      },
      "outputs": [],
      "execution_count": null
    },
    {
      "cell_type": "code",
      "source": [
        "import torch.optim.lr_scheduler as lr_scheduler\n",
        "from copy import deepcopy\n",
        "\n",
        "def train_model(model, trainloader, valloader, len_train, len_val, optimizer, num_epochs=10, patience=3):\n",
        "    # Learning rate scheduler\n",
        "    scheduler = lr_scheduler.StepLR(optimizer, step_size=2, gamma=0.1)\n",
        "\n",
        "    best_val_acc = 0.0\n",
        "    best_model_wts = deepcopy(model.state_dict())\n",
        "    counter = 0\n",
        "\n",
        "    for epoch in range(num_epochs):\n",
        "        model.train()\n",
        "        train_loss = 0\n",
        "        correct_train = 0\n",
        "\n",
        "        with tqdm(trainloader, unit=\"batch\") as tepoch:\n",
        "            for images, labels in tepoch:\n",
        "                images, labels = images.to(device), torch.tensor([label_map[label] for label in labels]).to(device)\n",
        "                optimizer.zero_grad()\n",
        "                outputs = model(images)\n",
        "                loss = criterion(outputs, labels)\n",
        "                loss.backward()\n",
        "                optimizer.step()\n",
        "                train_loss += loss.item()\n",
        "\n",
        "                probabilities = torch.softmax(outputs, dim=1)\n",
        "                _, predicted = torch.max(probabilities, 1)\n",
        "                correct_train += (predicted == labels).sum().item()\n",
        "\n",
        "                tepoch.set_postfix(epoch=epoch+1)\n",
        "\n",
        "        scheduler.step()\n",
        "\n",
        "        train_loss /= len(trainloader)\n",
        "        train_acc = 100 * correct_train / len_train\n",
        "\n",
        "        model.eval()\n",
        "        val_loss, correct_val = 0, 0\n",
        "        with torch.no_grad():\n",
        "            with tqdm(valloader, unit=\"batch\") as vepoch:\n",
        "                for images, labels in vepoch:\n",
        "                    images, labels = images.to(device), torch.tensor([label_map[label] for label in labels]).to(device)\n",
        "                    outputs = model(images)\n",
        "                    loss = criterion(outputs, labels)\n",
        "                    val_loss += loss.item()\n",
        "\n",
        "                    probabilities = torch.softmax(outputs, dim=1).squeeze(0)\n",
        "                    _, predicted = torch.max(probabilities, 1)\n",
        "                    correct_val += (predicted == labels).sum().item()\n",
        "\n",
        "                    vepoch.set_postfix(epoch=epoch+1)\n",
        "\n",
        "        val_loss /= len(valloader)\n",
        "        val_acc = 100 * correct_val / len_val\n",
        "\n",
        "        print(f\"Epoch {epoch+1}, Train Loss: {train_loss:.4f}, Train Acc: {train_acc:.2f}%, Val Loss: {val_loss:.4f}, Val Acc: {val_acc:.2f}%\")\n",
        "\n",
        "        # Save the best model and check for early stopping\n",
        "        if val_acc > best_val_acc:\n",
        "            best_val_acc = val_acc\n",
        "            best_model_wts = deepcopy(model.state_dict())\n",
        "            counter = 0\n",
        "            torch.save(best_model_wts, f'best_model_{epoch+1}.pth')\n",
        "        else:\n",
        "            counter += 1\n",
        "\n",
        "        # Early stopping\n",
        "        if counter >= patience:\n",
        "            print(f\"Early stopping triggered after {epoch+1} epochs\")\n",
        "            break\n",
        "\n",
        "    # Load best model weights\n",
        "    model.load_state_dict(best_model_wts)\n",
        "    return model, best_val_acc"
      ],
      "metadata": {
        "execution": {
          "iopub.status.busy": "2024-10-31T06:17:26.550858Z",
          "iopub.execute_input": "2024-10-31T06:17:26.551815Z",
          "iopub.status.idle": "2024-10-31T06:17:26.567159Z",
          "shell.execute_reply.started": "2024-10-31T06:17:26.551779Z",
          "shell.execute_reply": "2024-10-31T06:17:26.566253Z"
        },
        "trusted": true,
        "id": "_vYaSCuSo2hM"
      },
      "outputs": [],
      "execution_count": null
    },
    {
      "cell_type": "code",
      "source": [
        "# Training all models\n",
        "for desc, model in models.items():\n",
        "    if desc == 'Sagittal T1':\n",
        "        trainloader, valloader, len_train, len_val = trainloader_t1, valloader_t1, len_train_t1, len_val_t1\n",
        "    elif desc == 'Axial T2':\n",
        "        trainloader, valloader, len_train, len_val = trainloader_t2, valloader_t2, len_train_t2, len_val_t2\n",
        "    elif desc == 'Sagittal T2/STIR':\n",
        "        trainloader, valloader, len_train, len_val = trainloader_t2stir, valloader_t2stir, len_train_t2stir, len_val_t2stir\n",
        "\n",
        "    print(f\"Training model for {desc}\")\n",
        "    train_model(model, trainloader, valloader, len_train, len_val, optimizers[desc])"
      ],
      "metadata": {
        "execution": {
          "iopub.status.busy": "2024-10-31T06:17:33.273526Z",
          "iopub.execute_input": "2024-10-31T06:17:33.274367Z",
          "iopub.status.idle": "2024-10-31T08:23:26.504014Z",
          "shell.execute_reply.started": "2024-10-31T06:17:33.274329Z",
          "shell.execute_reply": "2024-10-31T08:23:26.503075Z"
        },
        "trusted": true,
        "id": "QheKlFASo2hN"
      },
      "outputs": [],
      "execution_count": null
    },
    {
      "cell_type": "markdown",
      "source": [
        "## Inference"
      ],
      "metadata": {
        "id": "0j9nKSVco2hN"
      }
    },
    {
      "cell_type": "code",
      "source": [
        "train_data['level'].unique()"
      ],
      "metadata": {
        "execution": {
          "iopub.status.busy": "2024-10-31T08:24:16.311928Z",
          "iopub.execute_input": "2024-10-31T08:24:16.312584Z",
          "iopub.status.idle": "2024-10-31T08:24:16.323176Z",
          "shell.execute_reply.started": "2024-10-31T08:24:16.31255Z",
          "shell.execute_reply": "2024-10-31T08:24:16.322239Z"
        },
        "trusted": true,
        "id": "i_4mt9axo2hN"
      },
      "outputs": [],
      "execution_count": null
    },
    {
      "cell_type": "code",
      "source": [
        "expanded_test_desc.head(5)"
      ],
      "metadata": {
        "execution": {
          "iopub.status.busy": "2024-10-31T08:24:18.816904Z",
          "iopub.execute_input": "2024-10-31T08:24:18.8175Z",
          "iopub.status.idle": "2024-10-31T08:24:18.82841Z",
          "shell.execute_reply.started": "2024-10-31T08:24:18.817456Z",
          "shell.execute_reply": "2024-10-31T08:24:18.827527Z"
        },
        "trusted": true,
        "id": "eHtDTi20o2hN"
      },
      "outputs": [],
      "execution_count": null
    },
    {
      "cell_type": "code",
      "source": [
        "levels = ['l1_l2', 'l2_l3', 'l3_l4', 'l4_l5', 'l5_s1']\n",
        "\n",
        "# Function to update row_id with levels\n",
        "def update_row_id(row, levels):\n",
        "    level = levels[row.name % len(levels)]\n",
        "    return f\"{row['study_id']}_{row['condition']}_{level}\"\n",
        "\n",
        "# Update row_id in expanded_test_desc to include levels\n",
        "expanded_test_desc['row_id'] = expanded_test_desc.apply(lambda row: update_row_id(row, levels), axis=1)"
      ],
      "metadata": {
        "execution": {
          "iopub.status.busy": "2024-10-31T08:24:22.39397Z",
          "iopub.execute_input": "2024-10-31T08:24:22.394557Z",
          "iopub.status.idle": "2024-10-31T08:24:22.40419Z",
          "shell.execute_reply.started": "2024-10-31T08:24:22.394527Z",
          "shell.execute_reply": "2024-10-31T08:24:22.403282Z"
        },
        "trusted": true,
        "id": "xy_nN2R0o2hN"
      },
      "outputs": [],
      "execution_count": null
    },
    {
      "cell_type": "code",
      "source": [
        "expanded_test_desc.head(2)"
      ],
      "metadata": {
        "execution": {
          "iopub.status.busy": "2024-10-31T08:24:25.565386Z",
          "iopub.execute_input": "2024-10-31T08:24:25.565729Z",
          "iopub.status.idle": "2024-10-31T08:24:25.575745Z",
          "shell.execute_reply.started": "2024-10-31T08:24:25.565703Z",
          "shell.execute_reply": "2024-10-31T08:24:25.574833Z"
        },
        "trusted": true,
        "id": "kl0LqM6xo2hO"
      },
      "outputs": [],
      "execution_count": null
    },
    {
      "cell_type": "code",
      "source": [
        "# Define a custom test dataset class\n",
        "class TestDataset(Dataset):\n",
        "    def __init__(self, dataframe, transform=None):\n",
        "        self.dataframe = dataframe\n",
        "        self.transform = transform\n",
        "\n",
        "    def __len__(self):\n",
        "        return len(self.dataframe)\n",
        "\n",
        "    def __getitem__(self, index):\n",
        "        image_path = self.dataframe['image_path'][index]\n",
        "        image = load_dicom(image_path)  # Define this function to load your DICOM images\n",
        "        if self.transform:\n",
        "            image = self.transform(image)\n",
        "        return image\n",
        "\n",
        "# Define the transforms\n",
        "transform = transforms.Compose([\n",
        "    transforms.ToPILImage(),\n",
        "    transforms.Resize((224, 224)),\n",
        "    transforms.Grayscale(num_output_channels=3),\n",
        "    transforms.ToTensor(),\n",
        "])\n",
        "\n",
        "# Create a test dataset and dataloader\n",
        "test_dataset = TestDataset(expanded_test_desc, transform)\n",
        "testloader = DataLoader(test_dataset, batch_size=1, shuffle=False)"
      ],
      "metadata": {
        "execution": {
          "iopub.status.busy": "2024-10-31T08:24:43.082107Z",
          "iopub.execute_input": "2024-10-31T08:24:43.082962Z",
          "iopub.status.idle": "2024-10-31T08:24:43.090839Z",
          "shell.execute_reply.started": "2024-10-31T08:24:43.082928Z",
          "shell.execute_reply": "2024-10-31T08:24:43.08991Z"
        },
        "trusted": true,
        "id": "y424_Dego2hO"
      },
      "outputs": [],
      "execution_count": null
    },
    {
      "cell_type": "code",
      "source": [
        "for image in testloader:\n",
        "    print(image.shape)\n",
        "    break"
      ],
      "metadata": {
        "execution": {
          "iopub.status.busy": "2024-10-31T08:24:53.864052Z",
          "iopub.execute_input": "2024-10-31T08:24:53.864802Z",
          "iopub.status.idle": "2024-10-31T08:24:53.906689Z",
          "shell.execute_reply.started": "2024-10-31T08:24:53.864769Z",
          "shell.execute_reply": "2024-10-31T08:24:53.905736Z"
        },
        "trusted": true,
        "id": "NzLLm5iYo2hP"
      },
      "outputs": [],
      "execution_count": null
    },
    {
      "cell_type": "code",
      "source": [
        "# Function to get the model based on series_description\n",
        "def get_model(series_description):\n",
        "    return models.get(series_description, None)\n",
        "\n",
        "# Function to make predictions on the test data\n",
        "def predict_test_data(testloader, expanded_test_desc):\n",
        "    predictions = []\n",
        "    normal_mild_probs = []\n",
        "    moderate_probs = []\n",
        "    severe_probs = []\n",
        "\n",
        "    for model in models.values():\n",
        "        model.eval()\n",
        "\n",
        "    with torch.no_grad():\n",
        "        for idx, images in enumerate(tqdm(testloader)):\n",
        "            images = images.to(device)\n",
        "            series_description = expanded_test_desc.iloc[idx]['series_description']\n",
        "            model = get_model(series_description)\n",
        "            if model:\n",
        "                model.eval()  # Set the model to eval mode\n",
        "                outputs = model(images)\n",
        "                probs = torch.softmax(outputs, dim=1).squeeze(0)\n",
        "                normal_mild_probs.append(probs[0].item())\n",
        "                moderate_probs.append(probs[1].item())\n",
        "                severe_probs.append(probs[2].item())\n",
        "                predictions.append(probs)\n",
        "            else:\n",
        "                normal_mild_probs.append(None)\n",
        "                moderate_probs.append(None)\n",
        "                severe_probs.append(None)\n",
        "                predictions.append(None)\n",
        "    return normal_mild_probs, moderate_probs, severe_probs, predictions"
      ],
      "metadata": {
        "execution": {
          "iopub.status.busy": "2024-10-31T08:24:57.979825Z",
          "iopub.execute_input": "2024-10-31T08:24:57.980778Z",
          "iopub.status.idle": "2024-10-31T08:24:57.990115Z",
          "shell.execute_reply.started": "2024-10-31T08:24:57.980736Z",
          "shell.execute_reply": "2024-10-31T08:24:57.989132Z"
        },
        "trusted": true,
        "id": "p5ytH4Gqo2hQ"
      },
      "outputs": [],
      "execution_count": null
    },
    {
      "cell_type": "code",
      "source": [
        "# Make predictions on the test data\n",
        "normal_mild_probs, moderate_probs, severe_probs, test_predictions = predict_test_data(testloader, expanded_test_desc)"
      ],
      "metadata": {
        "execution": {
          "iopub.status.busy": "2024-10-31T08:25:23.653514Z",
          "iopub.execute_input": "2024-10-31T08:25:23.654214Z",
          "iopub.status.idle": "2024-10-31T08:25:33.076042Z",
          "shell.execute_reply.started": "2024-10-31T08:25:23.654179Z",
          "shell.execute_reply": "2024-10-31T08:25:33.075151Z"
        },
        "trusted": true,
        "id": "V6O5v4YTo2hQ"
      },
      "outputs": [],
      "execution_count": null
    },
    {
      "cell_type": "code",
      "source": [
        "test_predictions[0]"
      ],
      "metadata": {
        "execution": {
          "iopub.status.busy": "2024-10-31T08:25:38.020786Z",
          "iopub.execute_input": "2024-10-31T08:25:38.021631Z",
          "iopub.status.idle": "2024-10-31T08:25:38.142972Z",
          "shell.execute_reply.started": "2024-10-31T08:25:38.021595Z",
          "shell.execute_reply": "2024-10-31T08:25:38.142031Z"
        },
        "trusted": true,
        "id": "E_k8hlSjo2hQ"
      },
      "outputs": [],
      "execution_count": null
    },
    {
      "cell_type": "code",
      "source": [
        "# Add predictions and probabilities to the test DataFrame\n",
        "expanded_test_desc['normal_mild'] = normal_mild_probs\n",
        "expanded_test_desc['moderate'] = moderate_probs\n",
        "expanded_test_desc['severe'] = severe_probs"
      ],
      "metadata": {
        "execution": {
          "iopub.status.busy": "2024-10-31T08:25:42.912407Z",
          "iopub.execute_input": "2024-10-31T08:25:42.913043Z",
          "iopub.status.idle": "2024-10-31T08:25:42.918804Z",
          "shell.execute_reply.started": "2024-10-31T08:25:42.913011Z",
          "shell.execute_reply": "2024-10-31T08:25:42.9179Z"
        },
        "trusted": true,
        "id": "0p3U-L6xo2hQ"
      },
      "outputs": [],
      "execution_count": null
    },
    {
      "cell_type": "code",
      "source": [
        "submission = expanded_test_desc[[\"row_id\",\"normal_mild\",\"moderate\",\"severe\"]]"
      ],
      "metadata": {
        "execution": {
          "iopub.status.busy": "2024-10-31T08:25:46.798957Z",
          "iopub.execute_input": "2024-10-31T08:25:46.799308Z",
          "iopub.status.idle": "2024-10-31T08:25:46.804838Z",
          "shell.execute_reply.started": "2024-10-31T08:25:46.799278Z",
          "shell.execute_reply": "2024-10-31T08:25:46.803839Z"
        },
        "trusted": true,
        "id": "sPZS691ho2hR"
      },
      "outputs": [],
      "execution_count": null
    },
    {
      "cell_type": "code",
      "source": [
        "submission.head(10)"
      ],
      "metadata": {
        "execution": {
          "iopub.status.busy": "2024-10-31T08:25:50.059315Z",
          "iopub.execute_input": "2024-10-31T08:25:50.060127Z",
          "iopub.status.idle": "2024-10-31T08:25:50.07174Z",
          "shell.execute_reply.started": "2024-10-31T08:25:50.060092Z",
          "shell.execute_reply": "2024-10-31T08:25:50.070778Z"
        },
        "trusted": true,
        "id": "z6F7NITjo2hR"
      },
      "outputs": [],
      "execution_count": null
    },
    {
      "cell_type": "code",
      "source": [
        "# Group by 'row_id' and sum the values\n",
        "grouped_submission = submission.groupby('row_id').max().reset_index()\n",
        "\n",
        "# Normalize the columns\n",
        "#grouped_submission[['normal_mild', 'moderate', 'severe']] = grouped_submission[['normal_mild', 'moderate', 'severe']].div(grouped_submission[['normal_mild', 'moderate', 'severe']].sum(axis=1), axis=0)\n",
        "\n",
        "# Check the first 3 rows\n",
        "grouped_submission"
      ],
      "metadata": {
        "execution": {
          "iopub.status.busy": "2024-10-31T08:25:54.776097Z",
          "iopub.execute_input": "2024-10-31T08:25:54.776925Z",
          "iopub.status.idle": "2024-10-31T08:25:54.797507Z",
          "shell.execute_reply.started": "2024-10-31T08:25:54.776893Z",
          "shell.execute_reply": "2024-10-31T08:25:54.796613Z"
        },
        "trusted": true,
        "id": "FYVcRkGPo2hR"
      },
      "outputs": [],
      "execution_count": null
    },
    {
      "cell_type": "code",
      "source": [
        "len(grouped_submission)"
      ],
      "metadata": {
        "execution": {
          "iopub.status.busy": "2024-10-31T08:26:24.821033Z",
          "iopub.execute_input": "2024-10-31T08:26:24.821392Z",
          "iopub.status.idle": "2024-10-31T08:26:24.827155Z",
          "shell.execute_reply.started": "2024-10-31T08:26:24.821363Z",
          "shell.execute_reply": "2024-10-31T08:26:24.826311Z"
        },
        "trusted": true,
        "id": "5vYokPkXo2hR"
      },
      "outputs": [],
      "execution_count": null
    },
    {
      "cell_type": "code",
      "source": [
        "sub[['normal_mild', 'moderate', 'severe']] = grouped_submission[['normal_mild', 'moderate', 'severe']]"
      ],
      "metadata": {
        "execution": {
          "iopub.status.busy": "2024-10-31T08:26:27.446206Z",
          "iopub.execute_input": "2024-10-31T08:26:27.446564Z",
          "iopub.status.idle": "2024-10-31T08:26:27.452671Z",
          "shell.execute_reply.started": "2024-10-31T08:26:27.446534Z",
          "shell.execute_reply": "2024-10-31T08:26:27.451722Z"
        },
        "trusted": true,
        "id": "PM2d8Wvso2hR"
      },
      "outputs": [],
      "execution_count": null
    },
    {
      "cell_type": "code",
      "source": [
        "import os\n",
        "\n",
        "# Save the DataFrame to \"submission.csv\" in the desired directory\n",
        "sub.to_csv(\"/kaggle/working/submission.csv\", index=False)"
      ],
      "metadata": {
        "execution": {
          "iopub.status.busy": "2024-10-31T08:26:36.075988Z",
          "iopub.execute_input": "2024-10-31T08:26:36.076781Z",
          "iopub.status.idle": "2024-10-31T08:26:36.086403Z",
          "shell.execute_reply.started": "2024-10-31T08:26:36.076749Z",
          "shell.execute_reply": "2024-10-31T08:26:36.085522Z"
        },
        "trusted": true,
        "id": "M2lv9lsxo2hR"
      },
      "outputs": [],
      "execution_count": null
    },
    {
      "cell_type": "code",
      "source": [
        "sub.head(5)"
      ],
      "metadata": {
        "execution": {
          "iopub.status.busy": "2024-10-31T08:27:02.829543Z",
          "iopub.execute_input": "2024-10-31T08:27:02.830754Z",
          "iopub.status.idle": "2024-10-31T08:27:02.844639Z",
          "shell.execute_reply.started": "2024-10-31T08:27:02.830709Z",
          "shell.execute_reply": "2024-10-31T08:27:02.843561Z"
        },
        "trusted": true,
        "id": "wvlq7fsOo2hU"
      },
      "outputs": [],
      "execution_count": null
    },
    {
      "cell_type": "code",
      "source": [],
      "metadata": {
        "id": "eUExErUfo2hV"
      },
      "outputs": [],
      "execution_count": null
    },
    {
      "cell_type": "code",
      "source": [],
      "metadata": {
        "id": "qo0bXYEKo2hV"
      },
      "outputs": [],
      "execution_count": null
    }
  ]
}