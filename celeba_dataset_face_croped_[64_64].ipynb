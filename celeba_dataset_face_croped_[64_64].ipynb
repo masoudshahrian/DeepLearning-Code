{
  "metadata": {
    "kernelspec": {
      "language": "python",
      "display_name": "Python 3",
      "name": "python3"
    },
    "language_info": {
      "name": "python",
      "version": "3.10.12",
      "mimetype": "text/x-python",
      "codemirror_mode": {
        "name": "ipython",
        "version": 3
      },
      "pygments_lexer": "ipython3",
      "nbconvert_exporter": "python",
      "file_extension": ".py"
    },
    "kaggle": {
      "accelerator": "gpu",
      "dataSources": [
        {
          "sourceId": 37705,
          "sourceType": "datasetVersion",
          "datasetId": 29561
        }
      ],
      "dockerImageVersionId": 30822,
      "isInternetEnabled": true,
      "language": "python",
      "sourceType": "notebook",
      "isGpuEnabled": true
    },
    "colab": {
      "name": "celeba-dataset-face-croped-[64*64]",
      "provenance": [],
      "include_colab_link": true
    }
  },
  "nbformat_minor": 0,
  "nbformat": 4,
  "cells": [
    {
      "cell_type": "markdown",
      "metadata": {
        "id": "view-in-github",
        "colab_type": "text"
      },
      "source": [
        "<a href=\"https://colab.research.google.com/github/masoudshahrian/DeepLearning-Code/blob/main/celeba_dataset_face_croped_%5B64_64%5D.ipynb\" target=\"_parent\"><img src=\"https://colab.research.google.com/assets/colab-badge.svg\" alt=\"Open In Colab\"/></a>"
      ]
    },
    {
      "source": [
        "# IMPORTANT: RUN THIS CELL IN ORDER TO IMPORT YOUR KAGGLE DATA SOURCES,\n",
        "# THEN FEEL FREE TO DELETE THIS CELL.\n",
        "# NOTE: THIS NOTEBOOK ENVIRONMENT DIFFERS FROM KAGGLE'S PYTHON\n",
        "# ENVIRONMENT SO THERE MAY BE MISSING LIBRARIES USED BY YOUR\n",
        "# NOTEBOOK.\n",
        "import kagglehub\n",
        "jessicali9530_celeba_dataset_path = kagglehub.dataset_download('jessicali9530/celeba-dataset')\n",
        "\n",
        "print('Data source import complete.')\n"
      ],
      "metadata": {
        "id": "VzQ60JUpVJ2y"
      },
      "cell_type": "code",
      "outputs": [],
      "execution_count": null
    },
    {
      "cell_type": "code",
      "source": [
        "# # This Python 3 environment comes with many helpful analytics libraries installed\n",
        "# # It is defined by the kaggle/python Docker image: https://github.com/kaggle/docker-python\n",
        "# # For example, here's several helpful packages to load\n",
        "\n",
        "# import numpy as np # linear algebra\n",
        "# import pandas as pd # data processing, CSV file I/O (e.g. pd.read_csv)\n",
        "\n",
        "# # Input data files are available in the read-only \"../input/\" directory\n",
        "# # For example, running this (by clicking run or pressing Shift+Enter) will list all files under the input directory\n",
        "\n",
        "# import os\n",
        "# for dirname, _, filenames in os.walk('/kaggle/input'):\n",
        "#     for filename in filenames:\n",
        "#         print(os.path.join(dirname, filename))\n",
        "\n",
        "# # You can write up to 20GB to the current directory (/kaggle/working/) that gets preserved as output when you create a version using \"Save & Run All\"\n",
        "# # You can also write temporary files to /kaggle/temp/, but they won't be saved outside of the current session"
      ],
      "metadata": {
        "_uuid": "8f2839f25d086af736a60e9eeb907d3b93b6e0e5",
        "_cell_guid": "b1076dfc-b9ad-4769-8c92-a6c4dae69d19",
        "trusted": true,
        "execution": {
          "iopub.status.busy": "2024-12-31T14:00:22.340417Z",
          "iopub.execute_input": "2024-12-31T14:00:22.340718Z",
          "iopub.status.idle": "2024-12-31T14:00:22.344574Z",
          "shell.execute_reply.started": "2024-12-31T14:00:22.340692Z",
          "shell.execute_reply": "2024-12-31T14:00:22.343643Z"
        },
        "id": "SBWyO33hVJ20"
      },
      "outputs": [],
      "execution_count": null
    },
    {
      "cell_type": "code",
      "source": [
        "!pip install dlib"
      ],
      "metadata": {
        "trusted": true,
        "execution": {
          "iopub.status.busy": "2024-12-31T19:23:53.286376Z",
          "iopub.execute_input": "2024-12-31T19:23:53.286655Z",
          "iopub.status.idle": "2024-12-31T19:23:57.60329Z",
          "shell.execute_reply.started": "2024-12-31T19:23:53.286634Z",
          "shell.execute_reply": "2024-12-31T19:23:57.602309Z"
        },
        "id": "vssMfka4VJ21",
        "outputId": "507f001c-17aa-4b08-fb40-666f61a32bc9"
      },
      "outputs": [
        {
          "name": "stdout",
          "text": "Requirement already satisfied: dlib in /usr/local/lib/python3.10/dist-packages (19.24.2)\n",
          "output_type": "stream"
        }
      ],
      "execution_count": null
    },
    {
      "cell_type": "code",
      "source": [
        "import cv2\n",
        "import dlib\n",
        "import os\n",
        "\n",
        "# مسیر به دایرکتوری تصاویر CelebA\n",
        "input_dir = '/kaggle/input/celeba-dataset/img_align_celeba/img_align_celeba/'  # مسیر دایرکتوری تصاویر\n",
        "output_dir_64 = '/kaggle/working/img_align_celeba/CelebA_Image_Cropped_64/'  # مسیر دایرکتوری خروجی برای تصاویر 64x64\n",
        "\n",
        "# ایجاد دایرکتوری خروجی در صورت عدم وجود\n",
        "os.makedirs(output_dir_64, exist_ok=True)\n",
        "\n",
        "# بارگذاری مدل شناسایی صورت\n",
        "detector = dlib.get_frontal_face_detector()\n",
        "\n",
        "# لیست کردن تصاویر در دایرکتوری ورودی\n",
        "for filename in os.listdir(input_dir):\n",
        "    if filename.endswith('.jpg') or filename.endswith('.png'):\n",
        "        # بارگذاری تصویر\n",
        "        image_path = os.path.join(input_dir, filename)\n",
        "        image = cv2.imread(image_path)\n",
        "\n",
        "        # تبدیل تصویر به خاکستری\n",
        "        gray = cv2.cvtColor(image, cv2.COLOR_BGR2GRAY)\n",
        "\n",
        "        # شناسایی صورت‌ها\n",
        "        faces = detector(gray)\n",
        "\n",
        "        # پردازش اولین صورت شناسایی شده\n",
        "        for face in faces:\n",
        "            # استخراج مختصات صورت\n",
        "            x, y, w, h = (face.left(), face.top(), face.width(), face.height())\n",
        "\n",
        "            # محاسبه مرکز صورت\n",
        "            center_x = x + w // 2\n",
        "            center_y = y + h // 2\n",
        "\n",
        "            # محاسبه مختصات جدید برای کراپ\n",
        "            crop_x1 = max(center_x - 32, 0)\n",
        "            crop_x2 = min(center_x + 32, image.shape[1])\n",
        "            crop_y1 = max(center_y - 32, 0)\n",
        "            crop_y2 = min(center_y + 32, image.shape[0])\n",
        "\n",
        "            # کراپ کردن تصویر\n",
        "            cropped_image = image[crop_y1:crop_y2, crop_x1:crop_x2]\n",
        "\n",
        "            # تغییر اندازه به 64x64\n",
        "            resized_image_64 = cv2.resize(cropped_image, (64, 64))\n",
        "\n",
        "            # ذخیره تصویر کراپ شده با همان نام اصلی\n",
        "            output_path_64 = os.path.join(output_dir_64, filename)\n",
        "            cv2.imwrite(output_path_64, resized_image_64)\n",
        "\n",
        "            break  # پردازش فقط اولین صورت شناسایی شده در هر تصویر\n",
        "\n",
        "print(\"تمامی تصاویر با موفقیت کراپ و ذخیره شدند.\")\n"
      ],
      "metadata": {
        "trusted": true,
        "execution": {
          "iopub.status.busy": "2024-12-31T19:24:03.333117Z",
          "iopub.execute_input": "2024-12-31T19:24:03.333419Z",
          "iopub.status.idle": "2024-12-31T20:01:08.073201Z",
          "shell.execute_reply.started": "2024-12-31T19:24:03.333398Z",
          "shell.execute_reply": "2024-12-31T20:01:08.072318Z"
        },
        "id": "_ct7E0wsVJ22",
        "outputId": "b1f88e19-bcf2-4ff3-95c5-29ec465de04c"
      },
      "outputs": [
        {
          "name": "stdout",
          "text": "تمامی تصاویر با موفقیت کراپ و ذخیره شدند.\n",
          "output_type": "stream"
        }
      ],
      "execution_count": null
    },
    {
      "cell_type": "code",
      "source": [
        "# import cv2\n",
        "# import dlib\n",
        "# import os\n",
        "\n",
        "# # مسیر به دایرکتوری تصاویر CelebA\n",
        "# input_dir = '/kaggle/input/celeba-dataset/img_align_celeba/img_align_celeba/'  # مسیر دایرکتوری تصاویر\n",
        "# output_dir_128 = '/kaggle/working/img_align_celeba/CelebA_Image_Cropped_128/'  # مسیر دایرکتوری خروجی برای تصاویر 128x128\n",
        "# output_dir_64 = '/kaggle/working/img_align_celeba/CelebA_Image_Cropped_64/'  # مسیر دایرکتوری خروجی برای تصاویر 64x64\n",
        "\n",
        "# # ایجاد دایرکتوری خروجی در صورت عدم وجود\n",
        "# os.makedirs(output_dir_128, exist_ok=True)\n",
        "# os.makedirs(output_dir_64, exist_ok=True)\n",
        "\n",
        "# # بارگذاری مدل شناسایی صورت\n",
        "# detector = dlib.get_frontal_face_detector()\n",
        "\n",
        "# # لیست کردن تصاویر در دایرکتوری ورودی\n",
        "# image_count = 0  # شمارنده برای تعداد تصاویر پردازش شده\n",
        "\n",
        "# for filename in os.listdir(input_dir):\n",
        "#     if filename.endswith('.jpg') or filename.endswith('.png'):\n",
        "#         # بارگذاری تصویر\n",
        "#         image_path = os.path.join(input_dir, filename)\n",
        "#         image = cv2.imread(image_path)\n",
        "\n",
        "#         # تبدیل تصویر به خاکستری\n",
        "#         gray = cv2.cvtColor(image, cv2.COLOR_BGR2GRAY)\n",
        "\n",
        "#         # شناسایی صورت‌ها\n",
        "#         faces = detector(gray)\n",
        "\n",
        "#         # پردازش هر صورت شناسایی شده\n",
        "#         for face in faces:\n",
        "#             # استخراج مختصات صورت\n",
        "#             x, y, w, h = (face.left(), face.top(), face.width(), face.height())\n",
        "\n",
        "#             # محاسبه مرکز صورت\n",
        "#             center_x = x + w // 2\n",
        "#             center_y = y + h // 2\n",
        "\n",
        "#             # محاسبه مختصات جدید برای کراپ\n",
        "#             crop_x1 = max(center_x - 64, 0)\n",
        "#             crop_x2 = min(center_x + 64, image.shape[1])\n",
        "#             crop_y1 = max(center_y - 64, 0)\n",
        "#             crop_y2 = min(center_y + 64, image.shape[0])\n",
        "\n",
        "#             # کراپ کردن تصویر\n",
        "#             cropped_image = image[crop_y1:crop_y2, crop_x1:crop_x2]\n",
        "\n",
        "#             # تغییر اندازه به 128x128\n",
        "#             resized_image_128 = cv2.resize(cropped_image, (128, 128))\n",
        "#             # ذخیره تصویر کراپ شده با ابعاد 128x128\n",
        "#             output_path_128 = os.path.join(output_dir_128, f'cropped_128_{image_count}.jpg')\n",
        "#             cv2.imwrite(output_path_128, resized_image_128)\n",
        "\n",
        "#             # تغییر اندازه به 64x64\n",
        "#             resized_image_64 = cv2.resize(cropped_image, (64, 64))\n",
        "#             # ذخیره تصویر کراپ شده با ابعاد 64x64\n",
        "#             output_path_64 = os.path.join(output_dir_64, f'cropped_64_{image_count}.jpg')\n",
        "#             cv2.imwrite(output_path_64, resized_image_64)\n",
        "\n",
        "#             image_count += 1  # افزایش شمارنده\n",
        "\n",
        "# print(f\"تمامی {image_count} تصویر با موفقیت کراپ و ذخیره شدند.\")"
      ],
      "metadata": {
        "trusted": true,
        "execution": {
          "iopub.status.busy": "2024-12-31T14:38:11.987533Z",
          "iopub.execute_input": "2024-12-31T14:38:11.987846Z",
          "iopub.status.idle": "2024-12-31T14:38:11.992025Z",
          "shell.execute_reply.started": "2024-12-31T14:38:11.987815Z",
          "shell.execute_reply": "2024-12-31T14:38:11.991185Z"
        },
        "id": "87JB2HbvVJ23"
      },
      "outputs": [],
      "execution_count": null
    },
    {
      "cell_type": "code",
      "source": [
        "# import cv2\n",
        "# import dlib\n",
        "# import os\n",
        "\n",
        "# # مسیر به دایرکتوری تصاویر CelebA\n",
        "# input_dir = '/kaggle/input/celeba-dataset/img_align_celeba/img_align_celeba/'  # مسیر دایرکتوری تصاویر\n",
        "# output_dir_128 = '/kaggle/working/img_align_celeba/CelebA_Face_Cropped_128/'  # مسیر دایرکتوری خروجی برای تصاویر 128x128\n",
        "# output_dir_64 = '/kaggle/working/img_align_celeba/CelebA_Face_Cropped_64/'  # مسیر دایرکتوری خروجی برای تصاویر 64x64\n",
        "\n",
        "# # ایجاد دایرکتوری خروجی در صورت عدم وجود\n",
        "# os.makedirs(output_dir_128, exist_ok=True)\n",
        "# os.makedirs(output_dir_64, exist_ok=True)\n",
        "\n",
        "# # بارگذاری مدل شناسایی صورت\n",
        "# detector = dlib.get_frontal_face_detector()\n",
        "\n",
        "# # لیست کردن تصاویر در دایرکتوری ورودی\n",
        "# for filename in os.listdir(input_dir):\n",
        "#     if filename.endswith('.jpg') or filename.endswith('.png'):\n",
        "#         # بارگذاری تصویر\n",
        "#         image_path = os.path.join(input_dir, filename)\n",
        "#         image = cv2.imread(image_path)\n",
        "\n",
        "#         # تبدیل تصویر به خاکستری\n",
        "#         gray = cv2.cvtColor(image, cv2.COLOR_BGR2GRAY)\n",
        "\n",
        "#         # شناسایی صورت‌ها\n",
        "#         faces = detector(gray)\n",
        "\n",
        "#         # پردازش هر صورت شناسایی شده\n",
        "#         for i, face in enumerate(faces):\n",
        "#             # استخراج مختصات صورت\n",
        "#             x, y, w, h = (face.left(), face.top(), face.width(), face.height())\n",
        "\n",
        "#             # محاسبه مرکز صورت\n",
        "#             center_x = x + w // 2\n",
        "#             center_y = y + h // 2\n",
        "\n",
        "#             # محاسبه مختصات جدید برای کراپ\n",
        "#             crop_x1 = max(center_x - 64, 0)\n",
        "#             crop_x2 = min(center_x + 64, image.shape[1])\n",
        "#             crop_y1 = max(center_y - 64, 0)\n",
        "#             crop_y2 = min(center_y + 64, image.shape[0])\n",
        "\n",
        "#             # کراپ کردن تصویر\n",
        "#             cropped_image = image[crop_y1:crop_y2, crop_x1:crop_x2]\n",
        "\n",
        "#             # تغییر اندازه به 128x128\n",
        "#             resized_image_128 = cv2.resize(cropped_image, (128, 128))\n",
        "#             # ذخیره تصویر کراپ شده با ابعاد 128x128\n",
        "#             output_path_128 = os.path.join(output_dir_128, f'{os.path.splitext(filename)[0]}.jpg')\n",
        "#             cv2.imwrite(output_path_128, resized_image_128)\n",
        "\n",
        "#             # تغییر اندازه به 64x64\n",
        "#             resized_image_64 = cv2.resize(cropped_image, (64, 64))\n",
        "#             # ذخیره تصویر کراپ شده با ابعاد 64x64\n",
        "#             output_path_64 = os.path.join(output_dir_64, f'{os.path.splitext(filename)[0]}.jpg')\n",
        "#             cv2.imwrite(output_path_64, resized_image_64)\n",
        "\n",
        "# print(\"تمامی تصاویر با موفقیت کراپ و ذخیره شدند.\")"
      ],
      "metadata": {
        "trusted": true,
        "execution": {
          "iopub.status.busy": "2024-12-31T14:38:11.992884Z",
          "iopub.execute_input": "2024-12-31T14:38:11.993177Z",
          "iopub.status.idle": "2024-12-31T14:38:12.012442Z",
          "shell.execute_reply.started": "2024-12-31T14:38:11.993148Z",
          "shell.execute_reply": "2024-12-31T14:38:12.011681Z"
        },
        "id": "OcPhk7ehVJ23"
      },
      "outputs": [],
      "execution_count": null
    }
  ]
}